{
  "cells": [
    {
      "cell_type": "code",
      "execution_count": null,
      "metadata": {
        "id": "98ec10ab"
      },
      "outputs": [],
      "source": [
        "import pandas as pd\n",
        "\n",
        "df_alimentos = pd.read_csv(\"alimentos.csv\")\n",
        "\n",
        "df_alimentos.fillna(0, inplace=True)"
      ]
    },
    {
      "cell_type": "code",
      "execution_count": null,
      "metadata": {
        "id": "JaehgcBFxmVo"
      },
      "outputs": [],
      "source": [
        "import random\n",
        "\n",
        "\n",
        "def gerar_cardapio_aleatorio(df):\n",
        "    alimentos = df[\"Descrição dos alimentos\"].dropna().unique().tolist()\n",
        "\n",
        "    cardapio = {\n",
        "        \"cafe\": random.sample(alimentos, k=random.randint(2, 3)),\n",
        "        \"almoco\": random.sample(alimentos, k=random.randint(2, 3)),\n",
        "        \"jantar\": random.sample(alimentos, k=random.randint(2, 3)),\n",
        "    }\n",
        "\n",
        "    return cardapio"
      ]
    },
    {
      "cell_type": "code",
      "execution_count": null,
      "metadata": {
        "id": "PCqmKDHIx9qP"
      },
      "outputs": [],
      "source": [
        "def calcular_nutrientes_cardapio(cardapio, df):\n",
        "    total = {\n",
        "        \"Energia..kcal.\": 0,\n",
        "        \"Proteína..g.\": 0,\n",
        "        \"Carboidrato..g.\": 0,\n",
        "        \"Lipídeos..g.\": 0,\n",
        "    }\n",
        "\n",
        "    for refeicao, alimentos in cardapio.items():\n",
        "        for alimento in alimentos:\n",
        "            dados = df[df[\"Descrição dos alimentos\"] == alimento]\n",
        "            if not dados.empty:\n",
        "                for chave in total.keys():\n",
        "                    valor = dados[chave].values[0]\n",
        "                    if pd.notna(valor):\n",
        "                        total[chave] += valor\n",
        "\n",
        "    return total"
      ]
    },
    {
      "cell_type": "code",
      "execution_count": null,
      "metadata": {
        "id": "2d0l8h9jyFdi"
      },
      "outputs": [],
      "source": [
        "def calcular_fitness(nutrientes, metas):\n",
        "    fitness = 0\n",
        "\n",
        "    for chave in metas.keys():\n",
        "        valor_real = nutrientes.get(chave, 0)\n",
        "        valor_meta = metas[chave]\n",
        "        desvio = abs(valor_real - valor_meta)\n",
        "\n",
        "        fitness -= desvio\n",
        "\n",
        "    return fitness"
      ]
    },
    {
      "cell_type": "code",
      "execution_count": null,
      "metadata": {
        "id": "dHwnoOgzy3Gf"
      },
      "outputs": [],
      "source": [
        "def selecao_por_torneio(populacao, fitnesses, k=3):\n",
        "    selecionados = []\n",
        "\n",
        "    for _ in range(len(populacao)):\n",
        "        participantes = random.sample(list(zip(populacao, fitnesses)), k)\n",
        "        vencedor = max(participantes, key=lambda x: x[1])\n",
        "        selecionados.append(vencedor[0])\n",
        "\n",
        "    return selecionados"
      ]
    },
    {
      "cell_type": "code",
      "execution_count": null,
      "metadata": {
        "id": "Ynvfb4lKy4Jg"
      },
      "outputs": [],
      "source": [
        "def crossover(card1, card2):\n",
        "    filho = {}\n",
        "\n",
        "    for refeicao in [\"cafe\", \"almoco\", \"jantar\"]:\n",
        "        filho[refeicao] = random.choice([card1[refeicao], card2[refeicao]])\n",
        "\n",
        "    return filho"
      ]
    },
    {
      "cell_type": "code",
      "execution_count": null,
      "metadata": {},
      "outputs": [],
      "source": [
        "def mutacao(cardapio, df, taxa=0.1):\n",
        "    # Deep copy para evitar modificar o cardápio original\n",
        "    novo = {ref: list(itens) for ref, itens in cardapio.items()}\n",
        "\n",
        "    for refeicao in novo:\n",
        "        if random.random() < taxa:\n",
        "            alimentos_possiveis = (\n",
        "                df[\"Descrição dos alimentos\"].dropna().unique().tolist()\n",
        "            )\n",
        "            if novo[refeicao]:\n",
        "                idx = random.randint(0, len(novo[refeicao]) - 1)\n",
        "                novo[refeicao][idx] = random.choice(alimentos_possiveis)\n",
        "\n",
        "    return novo"
      ]
    },
    {
      "cell_type": "code",
      "execution_count": null,
      "metadata": {},
      "outputs": [],
      "source": [
        "def algoritmo_genetico(df, metas, geracoes=50, N=30, mutacao=mutacao):\n",
        "    populacao = [gerar_cardapio_aleatorio(df) for _ in range(N)]\n",
        "    fitness_max_evolucao = []\n",
        "    fitness_medio_evolucao = []\n",
        "\n",
        "    for g in range(geracoes):\n",
        "        fitnesses = [\n",
        "            calcular_fitness(calcular_nutrientes_cardapio(c, df), metas)\n",
        "            for c in populacao\n",
        "        ]\n",
        "\n",
        "        fitness_max_evolucao.append(max(fitnesses))\n",
        "        fitness_medio_evolucao.append(sum(fitnesses) / len(fitnesses))\n",
        "\n",
        "        selecionados = selecao_por_torneio(populacao, fitnesses)\n",
        "\n",
        "        nova_populacao = []\n",
        "        for i in range(0, N, 2):\n",
        "            pai1 = selecionados[i]\n",
        "            pai2 = selecionados[i + 1 if i + 1 < N else 0]\n",
        "            filho1 = crossover(pai1, pai2)\n",
        "            filho2 = crossover(pai2, pai1)\n",
        "            nova_populacao.extend([mutacao(filho1, df), mutacao(filho2, df)])\n",
        "\n",
        "        populacao = nova_populacao[:N]\n",
        "\n",
        "    fitnesses = [\n",
        "        calcular_fitness(calcular_nutrientes_cardapio(c, df), metas) for c in populacao\n",
        "    ]\n",
        "    melhor_idx = fitnesses.index(max(fitnesses))\n",
        "\n",
        "    return (\n",
        "        populacao[melhor_idx],\n",
        "        fitnesses[melhor_idx],\n",
        "        fitness_max_evolucao,\n",
        "        fitness_medio_evolucao,\n",
        "    )"
      ]
    },
    {
      "cell_type": "code",
      "execution_count": null,
      "metadata": {
        "colab": {
          "base_uri": "https://localhost:8080/"
        },
        "id": "8OPbCnrcybgu",
        "outputId": "7483a40b-1ba7-445b-e366-d740b12e7d54"
      },
      "outputs": [],
      "source": [
        "metas = {\n",
        "    \"Energia..kcal.\": 2000,\n",
        "    \"Proteína..g.\": 75,\n",
        "    \"Carboidrato..g.\": 275,\n",
        "    \"Lipídeos..g.\": 70,\n",
        "}"
      ]
    },
    {
      "cell_type": "code",
      "execution_count": null,
      "metadata": {},
      "outputs": [],
      "source": [
        "melhor_cardapio, melhor_fitness, fit_max, fit_med = algoritmo_genetico(\n",
        "    df_alimentos, metas, 100\n",
        ")\n",
        "\n",
        "print(\"\\nMelhor cardápio:\")\n",
        "for r, itens in melhor_cardapio.items():\n",
        "    print(f\"{r}: {'; '.join(itens)}\")\n",
        "\n",
        "nutrientes = calcular_nutrientes_cardapio(melhor_cardapio, df_alimentos)\n",
        "print(\"\\nNutrientes:\")\n",
        "for n, v in nutrientes.items():\n",
        "    print(f\"{n}: {v:.2f}\")\n",
        "\n",
        "print(f\"\\nFitness final: {melhor_fitness:.2f}\")"
      ]
    },
    {
      "cell_type": "code",
      "execution_count": null,
      "metadata": {
        "colab": {
          "base_uri": "https://localhost:8080/",
          "height": 607
        },
        "id": "QY4_og4n1q6G",
        "outputId": "8340f27b-2778-46d1-f8c7-077c4ffc36f9"
      },
      "outputs": [],
      "source": [
        "import matplotlib.pyplot as plt\n",
        "\n",
        "plt.figure(figsize=(10, 6))\n",
        "plt.plot(fit_max, label=\"Melhor Fitness\", linewidth=2)\n",
        "plt.xlabel(\"Geração\")\n",
        "plt.ylabel(\"Fitness\")\n",
        "plt.title(\"Evolução do Algoritmo Genético\")\n",
        "plt.legend()\n",
        "plt.grid(True)\n",
        "plt.tight_layout()\n",
        "plt.show()"
      ]
    },
    {
      "cell_type": "code",
      "execution_count": null,
      "metadata": {},
      "outputs": [],
      "source": [
        "plt.clf()"
      ]
    },
    {
      "cell_type": "code",
      "execution_count": null,
      "metadata": {
        "id": "YC0YFgdDy7Dn"
      },
      "outputs": [],
      "source": [
        "def algoritmo_genetico_elitismo(\n",
        "    df, metas, geracoes=50, N=30, num_elitistas=2, mutacao=mutacao\n",
        "):\n",
        "    populacao = [gerar_cardapio_aleatorio(df) for _ in range(N)]\n",
        "    fitness_max_evolucao = []\n",
        "    fitness_medio_evolucao = []\n",
        "\n",
        "    for g in range(geracoes):\n",
        "        fitnesses = [\n",
        "            calcular_fitness(calcular_nutrientes_cardapio(c, df), metas)\n",
        "            for c in populacao\n",
        "        ]\n",
        "\n",
        "        fitness_max_evolucao.append(max(fitnesses))\n",
        "        fitness_medio_evolucao.append(sum(fitnesses) / len(fitnesses))\n",
        "\n",
        "        elite_indices = sorted(\n",
        "            range(len(fitnesses)), key=lambda i: fitnesses[i], reverse=True\n",
        "        )[:num_elitistas]\n",
        "        elite = [populacao[i] for i in elite_indices]\n",
        "\n",
        "        selecionados = selecao_por_torneio(populacao, fitnesses)\n",
        "        nova_populacao = elite.copy()\n",
        "\n",
        "        while len(nova_populacao) < N:\n",
        "            i = random.randint(0, len(selecionados) - 1)\n",
        "            j = random.randint(0, len(selecionados) - 1)\n",
        "            pai1 = selecionados[i]\n",
        "            pai2 = selecionados[j]\n",
        "            filho1 = crossover(pai1, pai2)\n",
        "            filho2 = crossover(pai2, pai1)\n",
        "            nova_populacao.append(mutacao(filho1, df))\n",
        "            if len(nova_populacao) < N:\n",
        "                nova_populacao.append(mutacao(filho2, df))\n",
        "\n",
        "        populacao = nova_populacao\n",
        "\n",
        "    fitnesses = [\n",
        "        calcular_fitness(calcular_nutrientes_cardapio(c, df), metas) for c in populacao\n",
        "    ]\n",
        "    melhor_idx = fitnesses.index(max(fitnesses))\n",
        "\n",
        "    return (\n",
        "        populacao[melhor_idx],\n",
        "        fitnesses[melhor_idx],\n",
        "        fitness_max_evolucao,\n",
        "        fitness_medio_evolucao,\n",
        "    )"
      ]
    },
    {
      "cell_type": "code",
      "execution_count": null,
      "metadata": {},
      "outputs": [],
      "source": [
        "melhor_cardapio, melhor_fitness, fit_max, fit_med = algoritmo_genetico_elitismo(\n",
        "    df_alimentos, metas, 100, 30, 2, mutacao\n",
        ")\n",
        "\n",
        "print(\"\\nMelhor cardápio:\")\n",
        "for r, itens in melhor_cardapio.items():\n",
        "    print(f\"{r}: {'; '.join(itens)}\")\n",
        "\n",
        "nutrientes = calcular_nutrientes_cardapio(melhor_cardapio, df_alimentos)\n",
        "print(\"\\nNutrientes:\")\n",
        "for n, v in nutrientes.items():\n",
        "    print(f\"{n}: {v:.2f}\")\n",
        "\n",
        "print(f\"\\nFitness final: {melhor_fitness:.2f}\")"
      ]
    },
    {
      "cell_type": "code",
      "execution_count": null,
      "metadata": {},
      "outputs": [],
      "source": [
        "import matplotlib.pyplot as plt\n",
        "\n",
        "plt.figure(figsize=(10, 6))\n",
        "plt.plot(fit_max, label=\"Melhor Fitness\", linewidth=2)\n",
        "plt.xlabel(\"Geração\")\n",
        "plt.ylabel(\"Fitness\")\n",
        "plt.title(\"Evolução do Algoritmo Genético\")\n",
        "plt.legend()\n",
        "plt.grid(True)\n",
        "plt.tight_layout()\n",
        "plt.show()"
      ]
    },
    {
      "cell_type": "code",
      "execution_count": null,
      "metadata": {},
      "outputs": [],
      "source": [
        "plt.clf()"
      ]
    },
    {
      "cell_type": "code",
      "execution_count": null,
      "metadata": {
        "id": "tRoufuBGy5nK"
      },
      "outputs": [],
      "source": [
        "def mutacao_por_alimento(cardapio, df, taxa=0.1):\n",
        "    novo = {ref: list(itens) for ref, itens in cardapio.items()}  # deep copy\n",
        "    alimentos_possiveis = df[\"Descrição dos alimentos\"].dropna().unique().tolist()\n",
        "\n",
        "    if random.random() < taxa:\n",
        "        refeicao = random.choice(list(novo.keys()))\n",
        "        if novo[refeicao]:\n",
        "            idx = random.randint(0, len(novo[refeicao]) - 1)\n",
        "            alimento_substituto = random.choice(alimentos_possiveis)\n",
        "            novo[refeicao][idx] = alimento_substituto\n",
        "\n",
        "    return novo"
      ]
    },
    {
      "cell_type": "code",
      "execution_count": null,
      "metadata": {},
      "outputs": [],
      "source": [
        "melhor_cardapio, melhor_fitness, fit_max, fit_med = algoritmo_genetico_elitismo(\n",
        "    df_alimentos, metas, 100, 30, 2, mutacao_por_alimento\n",
        ")\n",
        "\n",
        "print(\"\\nMelhor cardápio:\")\n",
        "for r, itens in melhor_cardapio.items():\n",
        "    print(f\"{r}: {'; '.join(itens)}\")\n",
        "\n",
        "nutrientes = calcular_nutrientes_cardapio(melhor_cardapio, df_alimentos)\n",
        "print(\"\\nNutrientes:\")\n",
        "for n, v in nutrientes.items():\n",
        "    print(f\"{n}: {v:.2f}\")\n",
        "\n",
        "print(f\"\\nFitness final: {melhor_fitness:.2f}\")"
      ]
    },
    {
      "cell_type": "code",
      "execution_count": null,
      "metadata": {},
      "outputs": [],
      "source": [
        "import matplotlib.pyplot as plt\n",
        "\n",
        "plt.figure(figsize=(10, 6))\n",
        "plt.plot(fit_max, label=\"Melhor Fitness\", linewidth=2)\n",
        "plt.xlabel(\"Geração\")\n",
        "plt.ylabel(\"Fitness\")\n",
        "plt.title(\"Evolução do Algoritmo Genético\")\n",
        "plt.legend()\n",
        "plt.grid(True)\n",
        "plt.tight_layout()\n",
        "plt.show()"
      ]
    },
    {
      "cell_type": "code",
      "execution_count": null,
      "metadata": {},
      "outputs": [],
      "source": [
        "# Teste do algoritmo genético com elitismo corrigido\n",
        "print(\"=== TESTE COM ELITISMO CORRIGIDO ===\")\n",
        "melhor_cardapio, melhor_fitness, fit_max, fit_med = algoritmo_genetico_elitismo(\n",
        "    df_alimentos, metas, 100, 30, 2, mutacao  # Usando a função mutacao corrigida\n",
        ")\n",
        "\n",
        "print(\"\\nMelhor cardápio:\")\n",
        "for r, itens in melhor_cardapio.items():\n",
        "    print(f\"{r}: {'; '.join(itens)}\")\n",
        "\n",
        "nutrientes = calcular_nutrientes_cardapio(melhor_cardapio, df_alimentos)\n",
        "print(\"\\nNutrientes:\")\n",
        "for n, v in nutrientes.items():\n",
        "    print(f\"{n}: {v:.2f}\")\n",
        "\n",
        "print(f\"\\nFitness final: {melhor_fitness:.2f}\")\n",
        "\n",
        "# Verificar se o fitness máximo nunca diminui (propriedade do elitismo)\n",
        "fitness_piorou = any(fit_max[i] < fit_max[i-1] for i in range(1, len(fit_max)))\n",
        "print(f\"\\nElitismo funcionando corretamente: {not fitness_piorou}\")\n",
        "if fitness_piorou:\n",
        "    print(\"⚠️  PROBLEMA: Fitness máximo diminuiu durante a evolução!\")\n",
        "else:\n",
        "    print(\"✅ Fitness máximo nunca diminuiu (elitismo funcionando)\")\n"
      ]
    },
    {
      "cell_type": "code",
      "execution_count": null,
      "metadata": {},
      "outputs": [],
      "source": [
        "# Gráfico da evolução com elitismo corrigido\n",
        "import matplotlib.pyplot as plt\n",
        "\n",
        "plt.figure(figsize=(12, 6))\n",
        "plt.plot(fit_max, label=\"Melhor Fitness (Elitismo Corrigido)\", linewidth=2, color='green')\n",
        "plt.plot(fit_med, label=\"Fitness Médio\", linewidth=1, color='blue', alpha=0.7)\n",
        "plt.xlabel(\"Geração\")\n",
        "plt.ylabel(\"Fitness\")\n",
        "plt.title(\"Evolução do Algoritmo Genético com Elitismo (Corrigido)\")\n",
        "plt.legend()\n",
        "plt.grid(True, alpha=0.3)\n",
        "\n",
        "# Destacar se houve alguma diminuição no fitness máximo\n",
        "for i in range(1, len(fit_max)):\n",
        "    if fit_max[i] < fit_max[i-1]:\n",
        "        plt.scatter(i, fit_max[i], color='red', s=50, zorder=5)\n",
        "\n",
        "plt.tight_layout()\n",
        "plt.show()\n"
      ]
    }
  ],
  "metadata": {
    "colab": {
      "provenance": []
    },
    "kernelspec": {
      "display_name": "base",
      "language": "python",
      "name": "python3"
    },
    "language_info": {
      "codemirror_mode": {
        "name": "ipython",
        "version": 3
      },
      "file_extension": ".py",
      "mimetype": "text/x-python",
      "name": "python",
      "nbconvert_exporter": "python",
      "pygments_lexer": "ipython3",
      "version": "3.12.6"
    }
  },
  "nbformat": 4,
  "nbformat_minor": 0
}
