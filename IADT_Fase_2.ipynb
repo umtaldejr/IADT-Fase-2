{
  "nbformat": 4,
  "nbformat_minor": 0,
  "metadata": {
    "colab": {
      "provenance": []
    },
    "kernelspec": {
      "name": "python3",
      "display_name": "Python 3"
    },
    "language_info": {
      "name": "python"
    }
  },
  "cells": [
    {
      "cell_type": "code",
      "metadata": {
        "id": "98ec10ab"
      },
      "source": [
        "import pandas as pd\n",
        "\n",
        "df_alimentos = pd.read_csv('/content/sample_data/alimentos.csv')\n"
      ],
      "execution_count": 62,
      "outputs": []
    },
    {
      "cell_type": "code",
      "source": [
        "import random\n",
        "\n",
        "def gerar_cardapio_aleatorio(df):\n",
        "    alimentos = df['Descrição dos alimentos'].dropna().unique().tolist()\n",
        "\n",
        "    cardapio = {\n",
        "        'cafe': random.sample(alimentos, k=random.randint(2, 3)),\n",
        "        'almoco': random.sample(alimentos, k=random.randint(2, 3)),\n",
        "        'jantar': random.sample(alimentos, k=random.randint(2, 3))\n",
        "    }\n",
        "\n",
        "    return cardapio\n"
      ],
      "metadata": {
        "id": "JaehgcBFxmVo"
      },
      "execution_count": 63,
      "outputs": []
    },
    {
      "cell_type": "code",
      "source": [
        "def calcular_nutrientes_cardapio(cardapio, df):\n",
        "    total = {\n",
        "        'Energia..kcal.': 0,\n",
        "        'Proteína..g.': 0,\n",
        "        'Carboidrato..g.': 0,\n",
        "        'Lipídeos..g.': 0\n",
        "    }\n",
        "\n",
        "    for refeicao, alimentos in cardapio.items():\n",
        "        for alimento in alimentos:\n",
        "            dados = df[df['Descrição dos alimentos'] == alimento]\n",
        "            if not dados.empty:\n",
        "                for chave in total.keys():\n",
        "                    valor = dados[chave].values[0]\n",
        "                    if pd.notna(valor):\n",
        "                        total[chave] += valor\n",
        "\n",
        "    return total\n"
      ],
      "metadata": {
        "id": "PCqmKDHIx9qP"
      },
      "execution_count": 64,
      "outputs": []
    },
    {
      "cell_type": "code",
      "source": [
        "def calcular_fitness(nutrientes, metas):\n",
        "    fitness = 0\n",
        "\n",
        "    for chave in metas.keys():\n",
        "        valor_real = nutrientes.get(chave, 0)\n",
        "        valor_meta = metas[chave]\n",
        "        desvio = abs(valor_real - valor_meta)\n",
        "\n",
        "        fitness -= desvio\n",
        "\n",
        "    return fitness"
      ],
      "metadata": {
        "id": "2d0l8h9jyFdi"
      },
      "execution_count": 65,
      "outputs": []
    },
    {
      "cell_type": "code",
      "source": [
        "def selecao_por_torneio(populacao, fitnesses, k=3):\n",
        "    selecionados = []\n",
        "\n",
        "    for _ in range(len(populacao)):\n",
        "        participantes = random.sample(list(zip(populacao, fitnesses)), k)\n",
        "        vencedor = max(participantes, key=lambda x: x[1])\n",
        "        selecionados.append(vencedor[0])\n",
        "\n",
        "    return selecionados\n"
      ],
      "metadata": {
        "id": "dHwnoOgzy3Gf"
      },
      "execution_count": 66,
      "outputs": []
    },
    {
      "cell_type": "code",
      "source": [
        "def crossover(card1, card2):\n",
        "    filho = {}\n",
        "\n",
        "    for refeicao in ['cafe', 'almoco', 'jantar']:\n",
        "        filho[refeicao] = random.choice([card1[refeicao], card2[refeicao]])\n",
        "\n",
        "    return filho\n"
      ],
      "metadata": {
        "id": "Ynvfb4lKy4Jg"
      },
      "execution_count": 67,
      "outputs": []
    },
    {
      "cell_type": "code",
      "source": [
        "def algoritmo_genetico(df, metas, geracoes=50, N=30):\n",
        "    populacao = [gerar_cardapio_aleatorio(df) for _ in range(N)]\n",
        "\n",
        "    for g in range(geracoes):\n",
        "        fitnesses = [calcular_fitness(calcular_nutrientes_cardapio(c, df), metas) for c in populacao]\n",
        "\n",
        "        nova_populacao = []\n",
        "        selecionados = selecao_por_torneio(populacao, fitnesses)\n",
        "\n",
        "        for i in range(0, N, 2):\n",
        "            pai1 = selecionados[i]\n",
        "            pai2 = selecionados[i + 1 if i + 1 < N else 0]\n",
        "            filho1 = crossover(pai1, pai2)\n",
        "            filho2 = crossover(pai2, pai1)\n",
        "            nova_populacao.extend([mutacao(filho1, df), mutacao(filho2, df)])\n",
        "\n",
        "        populacao = nova_populacao[:N]\n",
        "\n",
        "    fitnesses = [calcular_fitness(calcular_nutrientes_cardapio(c, df), metas) for c in populacao]\n",
        "    melhor_idx = fitnesses.index(max(fitnesses))\n",
        "\n",
        "    return populacao[melhor_idx], fitnesses[melhor_idx]\n"
      ],
      "metadata": {
        "id": "YC0YFgdDy7Dn"
      },
      "execution_count": 68,
      "outputs": []
    },
    {
      "cell_type": "code",
      "source": [
        "def mutacao(cardapio, df, taxa=0.1):\n",
        "    novo = cardapio.copy()\n",
        "\n",
        "    for refeicao in novo:\n",
        "        if random.random() < taxa:\n",
        "            alimentos_possiveis = df['Descrição dos alimentos'].dropna().unique().tolist()\n",
        "            if novo[refeicao]:\n",
        "                idx = random.randint(0, len(novo[refeicao]) - 1)\n",
        "                novo[refeicao][idx] = random.choice(alimentos_possiveis)\n",
        "\n",
        "    return novo\n"
      ],
      "metadata": {
        "id": "tRoufuBGy5nK"
      },
      "execution_count": 69,
      "outputs": []
    },
    {
      "cell_type": "code",
      "source": [
        "metas = {\n",
        "    'Energia..kcal.': 2000,\n",
        "    'Proteína..g.': 75,\n",
        "    'Carboidrato..g.': 275,\n",
        "    'Lipídeos..g.': 70\n",
        "}\n",
        "\n",
        "melhor_cardapio, melhor_fitness = algoritmo_genetico(df_alimentos, metas)\n",
        "\n",
        "print(\"\\nMelhor cardápio:\")\n",
        "for r, itens in melhor_cardapio.items():\n",
        "    print(f\"{r}: {'; '.join(itens)}\")\n",
        "\n",
        "nutrientes = calcular_nutrientes_cardapio(melhor_cardapio, df_alimentos)\n",
        "print(\"\\nNutrientes:\")\n",
        "for n, v in nutrientes.items():\n",
        "    print(f\"{n}: {v:.2f}\")\n",
        "\n",
        "print(f\"\\nFitness final: {melhor_fitness:.2f}\")\n"
      ],
      "metadata": {
        "colab": {
          "base_uri": "https://localhost:8080/"
        },
        "id": "8OPbCnrcybgu",
        "outputId": "e1382953-43c6-4349-934c-13888791fbfc"
      },
      "execution_count": 70,
      "outputs": [
        {
          "output_type": "stream",
          "name": "stdout",
          "text": [
            "\n",
            "Melhor cardápio:\n",
            "cafe: Pintado, cru; Abadejo, filé, congelado, assado\n",
            "almoco: Sardinha, conserva em óleo; Frango, peito, sem pele, cozido; Macarrão, instantâneo\n",
            "jantar: Biscoito, doce, wafer, recheado de morango; Mamão verde, doce em calda, drenado; Pinhão, cozido\n",
            "\n",
            "Nutrientes:\n",
            "Energia..kcal.: 1983.00\n",
            "Proteína..g.: 106.10\n",
            "Carboidrato..g.: 231.30\n",
            "Lipídeos..g.: 74.10\n",
            "\n",
            "Fitness final: -95.90\n"
          ]
        }
      ]
    }
  ]
}