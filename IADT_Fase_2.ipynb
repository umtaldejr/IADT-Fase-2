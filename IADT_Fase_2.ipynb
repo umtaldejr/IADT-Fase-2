{
  "cells": [
    {
      "cell_type": "code",
      "execution_count": 1,
      "metadata": {
        "id": "98ec10ab"
      },
      "outputs": [],
      "source": [
        "import pandas as pd\n",
        "\n",
        "df_alimentos = pd.read_csv('alimentos.csv')\n",
        "\n",
        "df_alimentos.fillna(0, inplace=True)"
      ]
    },
    {
      "cell_type": "code",
      "execution_count": 2,
      "metadata": {
        "id": "JaehgcBFxmVo"
      },
      "outputs": [],
      "source": [
        "import random\n",
        "\n",
        "def gerar_cardapio_aleatorio(df):\n",
        "    alimentos = df['Descrição dos alimentos'].dropna().unique().tolist()\n",
        "\n",
        "    cardapio = {\n",
        "        'cafe': random.sample(alimentos, k=random.randint(2, 3)),\n",
        "        'almoco': random.sample(alimentos, k=random.randint(2, 3)),\n",
        "        'jantar': random.sample(alimentos, k=random.randint(2, 3))\n",
        "    }\n",
        "\n",
        "    return cardapio\n"
      ]
    },
    {
      "cell_type": "code",
      "execution_count": 3,
      "metadata": {
        "id": "PCqmKDHIx9qP"
      },
      "outputs": [],
      "source": [
        "def calcular_nutrientes_cardapio(cardapio, df):\n",
        "    total = {\n",
        "        'Energia..kcal.': 0,\n",
        "        'Proteína..g.': 0,\n",
        "        'Carboidrato..g.': 0,\n",
        "        'Lipídeos..g.': 0\n",
        "    }\n",
        "\n",
        "    for refeicao, alimentos in cardapio.items():\n",
        "        for alimento in alimentos:\n",
        "            dados = df[df['Descrição dos alimentos'] == alimento]\n",
        "            if not dados.empty:\n",
        "                for chave in total.keys():\n",
        "                    valor = dados[chave].values[0]\n",
        "                    if pd.notna(valor):\n",
        "                        total[chave] += valor\n",
        "\n",
        "    return total\n"
      ]
    },
    {
      "cell_type": "code",
      "execution_count": 4,
      "metadata": {
        "id": "2d0l8h9jyFdi"
      },
      "outputs": [],
      "source": [
        "def calcular_fitness(nutrientes, metas):\n",
        "    fitness = 0\n",
        "\n",
        "    for chave in metas.keys():\n",
        "        valor_real = nutrientes.get(chave, 0)\n",
        "        valor_meta = metas[chave]\n",
        "        desvio = abs(valor_real - valor_meta)\n",
        "\n",
        "        fitness -= desvio\n",
        "\n",
        "    return fitness"
      ]
    },
    {
      "cell_type": "code",
      "execution_count": 5,
      "metadata": {
        "id": "dHwnoOgzy3Gf"
      },
      "outputs": [],
      "source": [
        "def selecao_por_torneio(populacao, fitnesses, k=3):\n",
        "    selecionados = []\n",
        "\n",
        "    for _ in range(len(populacao)):\n",
        "        participantes = random.sample(list(zip(populacao, fitnesses)), k)\n",
        "        vencedor = max(participantes, key=lambda x: x[1])\n",
        "        selecionados.append(vencedor[0])\n",
        "\n",
        "    return selecionados\n"
      ]
    },
    {
      "cell_type": "code",
      "execution_count": 6,
      "metadata": {
        "id": "Ynvfb4lKy4Jg"
      },
      "outputs": [],
      "source": [
        "def crossover(card1, card2):\n",
        "    filho = {}\n",
        "\n",
        "    for refeicao in ['cafe', 'almoco', 'jantar']:\n",
        "        filho[refeicao] = random.choice([card1[refeicao], card2[refeicao]])\n",
        "\n",
        "    return filho\n"
      ]
    },
    {
      "cell_type": "code",
      "execution_count": 7,
      "metadata": {
        "id": "YC0YFgdDy7Dn"
      },
      "outputs": [],
      "source": [
        "def algoritmo_genetico(df, metas, geracoes=50, N=30):\n",
        "    populacao = [gerar_cardapio_aleatorio(df) for _ in range(N)]\n",
        "    fitness_max_evolucao = []\n",
        "    fitness_medio_evolucao = []\n",
        "\n",
        "    for g in range(geracoes):\n",
        "        fitnesses = [calcular_fitness(calcular_nutrientes_cardapio(c, df), metas) for c in populacao]\n",
        "\n",
        "        fitness_max_evolucao.append(max(fitnesses))\n",
        "        fitness_medio_evolucao.append(sum(fitnesses) / len(fitnesses))\n",
        "\n",
        "        selecionados = selecao_por_torneio(populacao, fitnesses)\n",
        "\n",
        "        nova_populacao = []\n",
        "        for i in range(0, N, 2):\n",
        "            pai1 = selecionados[i]\n",
        "            pai2 = selecionados[i + 1 if i + 1 < N else 0]\n",
        "            filho1 = crossover(pai1, pai2)\n",
        "            filho2 = crossover(pai2, pai1)\n",
        "            nova_populacao.extend([\n",
        "                mutacao(filho1, df),\n",
        "                mutacao(filho2, df)\n",
        "            ])\n",
        "\n",
        "        populacao = nova_populacao[:N]\n",
        "\n",
        "    fitnesses = [calcular_fitness(calcular_nutrientes_cardapio(c, df), metas) for c in populacao]\n",
        "    melhor_idx = fitnesses.index(max(fitnesses))\n",
        "\n",
        "    return populacao[melhor_idx], fitnesses[melhor_idx], fitness_max_evolucao, fitness_medio_evolucao\n"
      ]
    },
    {
      "cell_type": "code",
      "execution_count": 11,
      "metadata": {
        "id": "tRoufuBGy5nK"
      },
      "outputs": [],
      "source": [
        "def mutacao(cardapio, df, taxa=0.1):\n",
        "    novo = {ref: list(itens) for ref, itens in cardapio.items()}  # deep copy\n",
        "    alimentos_possiveis = df['Descrição dos alimentos'].dropna().unique().tolist()\n",
        "\n",
        "    if random.random() < taxa:\n",
        "        # Escolhe uma refeição aleatória\n",
        "        refeicao = random.choice(list(novo.keys()))\n",
        "        if novo[refeicao]:\n",
        "            # Escolhe um alimento da refeição para trocar\n",
        "            idx = random.randint(0, len(novo[refeicao]) - 1)\n",
        "            alimento_substituto = random.choice(alimentos_possiveis)\n",
        "            novo[refeicao][idx] = alimento_substituto\n",
        "\n",
        "    return novo"
      ]
    },
    {
      "cell_type": "code",
      "execution_count": 12,
      "metadata": {
        "colab": {
          "base_uri": "https://localhost:8080/"
        },
        "id": "8OPbCnrcybgu",
        "outputId": "7483a40b-1ba7-445b-e366-d740b12e7d54"
      },
      "outputs": [
        {
          "name": "stdout",
          "output_type": "stream",
          "text": [
            "\n",
            "Melhor cardápio:\n",
            "cafe: Carne, bovina, fígado, grelhado; Linhaça, semente\n",
            "almoco: Macarrão, trigo, cru, com ovos; Fruta-pão, crua; Pêra, Park, crua\n",
            "jantar: Biscoito, doce, recheado com chocolate; Coentro, folhas desidratadas\n",
            "\n",
            "Nutrientes:\n",
            "Energia..kcal.: 2000.00\n",
            "Proteína..g.: 82.90\n",
            "Carboidrato..g.: 275.90\n",
            "Lipídeos..g.: 73.70\n",
            "\n",
            "Fitness final: -12.50\n"
          ]
        }
      ],
      "source": [
        "metas = {\n",
        "    'Energia..kcal.': 2000,\n",
        "    'Proteína..g.': 75,\n",
        "    'Carboidrato..g.': 275,\n",
        "    'Lipídeos..g.': 70\n",
        "}\n",
        "\n",
        "melhor_cardapio, melhor_fitness, fit_max, fit_med = algoritmo_genetico(df_alimentos, metas, 1000)\n",
        "\n",
        "print(\"\\nMelhor cardápio:\")\n",
        "for r, itens in melhor_cardapio.items():\n",
        "    print(f\"{r}: {'; '.join(itens)}\")\n",
        "\n",
        "nutrientes = calcular_nutrientes_cardapio(melhor_cardapio, df_alimentos)\n",
        "print(\"\\nNutrientes:\")\n",
        "for n, v in nutrientes.items():\n",
        "    print(f\"{n}: {v:.2f}\")\n",
        "\n",
        "print(f\"\\nFitness final: {melhor_fitness:.2f}\")\n"
      ]
    },
    {
      "cell_type": "code",
      "execution_count": 13,
      "metadata": {
        "colab": {
          "base_uri": "https://localhost:8080/",
          "height": 607
        },
        "id": "QY4_og4n1q6G",
        "outputId": "8340f27b-2778-46d1-f8c7-077c4ffc36f9"
      },
      "outputs": [
        {
          "data": {
            "image/png": "[encoded data removed]",
            "text/plain": [
              "<Figure size 1000x600 with 1 Axes>"
            ]
          },
          "metadata": {},
          "output_type": "display_data"
        }
      ],
      "source": [
        "import matplotlib.pyplot as plt\n",
        "\n",
        "plt.figure(figsize=(10, 6))\n",
        "plt.plot(fit_max, label='Melhor Fitness', linewidth=2)\n",
        "plt.xlabel('Geração')\n",
        "plt.ylabel('Fitness')\n",
        "plt.title('Evolução do Algoritmo Genético')\n",
        "plt.legend()\n",
        "plt.grid(True)\n",
        "plt.tight_layout()\n",
        "plt.show()"
      ]
    }
  ],
  "metadata": {
    "colab": {
      "provenance": []
    },
    "kernelspec": {
      "display_name": "Python 3",
      "name": "python3"
    },
    "language_info": {
      "name": "python"
    }
  },
  "nbformat": 4,
  "nbformat_minor": 0
}
