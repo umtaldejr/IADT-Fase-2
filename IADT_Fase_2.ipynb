{
 "cells": [
  {
   "cell_type": "code",
   "execution_count": null,
   "metadata": {
    "execution": {
     "iopub.execute_input": "2025-07-26T16:54:05.526500Z",
     "iopub.status.busy": "2025-07-26T16:54:05.526059Z",
     "iopub.status.idle": "2025-07-26T16:54:06.072062Z",
     "shell.execute_reply": "2025-07-26T16:54:06.071779Z"
    }
   },
   "outputs": [],
   "source": [
    "import pandas as pd\n",
    "import random\n",
    "import copy\n",
    "import matplotlib.pyplot as plt"
   ]
  },
  {
   "cell_type": "code",
   "execution_count": null,
   "metadata": {
    "execution": {
     "iopub.execute_input": "2025-07-26T16:54:06.073645Z",
     "iopub.status.busy": "2025-07-26T16:54:06.073472Z",
     "iopub.status.idle": "2025-07-26T16:54:06.082498Z",
     "shell.execute_reply": "2025-07-26T16:54:06.082210Z"
    },
    "id": "98ec10ab"
   },
   "outputs": [],
   "source": [
    "df_alimentos = pd.read_csv(\"alimentos.csv\")\n",
    "df_alimentos.fillna(0, inplace=True)"
   ]
  },
  {
   "cell_type": "code",
   "execution_count": null,
   "metadata": {
    "execution": {
     "iopub.execute_input": "2025-07-26T16:54:06.084004Z",
     "iopub.status.busy": "2025-07-26T16:54:06.083901Z",
     "iopub.status.idle": "2025-07-26T16:54:06.085838Z",
     "shell.execute_reply": "2025-07-26T16:54:06.085616Z"
    }
   },
   "outputs": [],
   "source": [
    "METAS_NUTRICIONAIS = {\n",
    "    \"Energia..kcal.\": 2000,\n",
    "    \"Proteína..g.\": 75,\n",
    "    \"Carboidrato..g.\": 275,\n",
    "    \"Lipídeos..g.\": 70,\n",
    "}\n",
    "\n",
    "TAMANHO_POPULACAO = 30\n",
    "NUM_GERACOES = 100\n",
    "NUM_ELITISTAS = 2\n",
    "TAXA_MUTACAO = 0.1\n",
    "TAXA_ELITISMO = 0.1\n",
    "TAMANHO_TORNEIO = 3\n",
    "\n",
    "SEED_RANDOM = 42\n",
    "random.seed(SEED_RANDOM)"
   ]
  },
  {
   "cell_type": "code",
   "execution_count": null,
   "metadata": {
    "execution": {
     "iopub.execute_input": "2025-07-26T16:54:06.086939Z",
     "iopub.status.busy": "2025-07-26T16:54:06.086846Z",
     "iopub.status.idle": "2025-07-26T16:54:06.091708Z",
     "shell.execute_reply": "2025-07-26T16:54:06.091421Z"
    },
    "id": "JaehgcBFxmVo"
   },
   "outputs": [],
   "source": [
    "def gerar_cardapio_aleatorio(df):\n",
    "    alimentos = df[\"Descrição dos alimentos\"].dropna().unique().tolist()\n",
    "\n",
    "    cardapio = {\n",
    "        \"cafe\": random.sample(alimentos, k=random.randint(2, 3)),\n",
    "        \"almoco\": random.sample(alimentos, k=random.randint(2, 3)),\n",
    "        \"jantar\": random.sample(alimentos, k=random.randint(2, 3)),\n",
    "    }\n",
    "\n",
    "    return cardapio\n",
    "\n",
    "populacao_inicial = [gerar_cardapio_aleatorio(df_alimentos) for _ in range(TAMANHO_POPULACAO)]"
   ]
  },
  {
   "cell_type": "code",
   "execution_count": null,
   "metadata": {
    "execution": {
     "iopub.execute_input": "2025-07-26T16:54:06.092999Z",
     "iopub.status.busy": "2025-07-26T16:54:06.092904Z",
     "iopub.status.idle": "2025-07-26T16:54:06.095079Z",
     "shell.execute_reply": "2025-07-26T16:54:06.094890Z"
    },
    "id": "PCqmKDHIx9qP"
   },
   "outputs": [],
   "source": [
    "def calcular_nutrientes_cardapio(cardapio, df):\n",
    "    total = {\n",
    "        \"Energia..kcal.\": 0,\n",
    "        \"Proteína..g.\": 0,\n",
    "        \"Carboidrato..g.\": 0,\n",
    "        \"Lipídeos..g.\": 0,\n",
    "    }\n",
    "\n",
    "    for refeicao, alimentos in cardapio.items():\n",
    "        for alimento in alimentos:\n",
    "            dados = df[df[\"Descrição dos alimentos\"] == alimento]\n",
    "            if not dados.empty:\n",
    "                for chave in total.keys():\n",
    "                    valor = dados[chave].values[0]\n",
    "                    if pd.notna(valor):\n",
    "                        total[chave] += valor\n",
    "\n",
    "    return total"
   ]
  },
  {
   "cell_type": "code",
   "execution_count": null,
   "metadata": {
    "execution": {
     "iopub.execute_input": "2025-07-26T16:54:06.096182Z",
     "iopub.status.busy": "2025-07-26T16:54:06.096111Z",
     "iopub.status.idle": "2025-07-26T16:54:06.097724Z",
     "shell.execute_reply": "2025-07-26T16:54:06.097530Z"
    },
    "id": "2d0l8h9jyFdi"
   },
   "outputs": [],
   "source": [
    "def calcular_fitness(nutrientes, metas):\n",
    "    fitness = 0\n",
    "\n",
    "    for chave in metas.keys():\n",
    "        valor_real = nutrientes.get(chave, 0)\n",
    "        valor_meta = metas[chave]\n",
    "        desvio = abs(valor_real - valor_meta)\n",
    "\n",
    "        fitness -= desvio\n",
    "\n",
    "    return fitness"
   ]
  },
  {
   "cell_type": "code",
   "execution_count": null,
   "metadata": {
    "execution": {
     "iopub.execute_input": "2025-07-26T16:54:06.098736Z",
     "iopub.status.busy": "2025-07-26T16:54:06.098660Z",
     "iopub.status.idle": "2025-07-26T16:54:06.100599Z",
     "shell.execute_reply": "2025-07-26T16:54:06.100309Z"
    },
    "id": "dHwnoOgzy3Gf"
   },
   "outputs": [],
   "source": [
    "def selecao_por_torneio(populacao, fitnesses, k=3):\n",
    "    selecionados = []\n",
    "\n",
    "    for _ in range(len(populacao)):\n",
    "        participantes = random.sample(list(zip(populacao, fitnesses)), k)\n",
    "        vencedor = max(participantes, key=lambda x: x[1])\n",
    "        selecionados.append(vencedor[0])\n",
    "\n",
    "    return selecionados"
   ]
  },
  {
   "cell_type": "code",
   "execution_count": null,
   "metadata": {
    "execution": {
     "iopub.execute_input": "2025-07-26T16:54:06.102001Z",
     "iopub.status.busy": "2025-07-26T16:54:06.101915Z",
     "iopub.status.idle": "2025-07-26T16:54:06.103761Z",
     "shell.execute_reply": "2025-07-26T16:54:06.103490Z"
    },
    "id": "Ynvfb4lKy4Jg"
   },
   "outputs": [],
   "source": [
    "def crossover(card1, card2):\n",
    "    filho = {}\n",
    "\n",
    "    for refeicao in [\"cafe\", \"almoco\", \"jantar\"]:\n",
    "        lista_escolhida = random.choice([card1[refeicao], card2[refeicao]])\n",
    "        filho[refeicao] = lista_escolhida.copy()\n",
    "\n",
    "    return filho"
   ]
  },
  {
   "cell_type": "code",
   "execution_count": null,
   "metadata": {
    "execution": {
     "iopub.execute_input": "2025-07-26T16:54:06.104866Z",
     "iopub.status.busy": "2025-07-26T16:54:06.104792Z",
     "iopub.status.idle": "2025-07-26T16:54:06.106803Z",
     "shell.execute_reply": "2025-07-26T16:54:06.106513Z"
    },
    "id": "tRoufuBGy5nK"
   },
   "outputs": [],
   "source": [
    "def mutacao(cardapio, df, taxa_mutacao=TAXA_MUTACAO):\n",
    "    novo_cardapio = copy.deepcopy(cardapio)\n",
    "\n",
    "    for refeicao in novo_cardapio:\n",
    "        if random.random() < taxa_mutacao:\n",
    "            alimentos_possiveis = (\n",
    "                df[\"Descrição dos alimentos\"].dropna().unique().tolist()\n",
    "            )\n",
    "            if novo_cardapio[refeicao]:\n",
    "                idx = random.randint(0, len(novo_cardapio[refeicao]) - 1)\n",
    "                novo_cardapio[refeicao][idx] = random.choice(alimentos_possiveis)\n",
    "\n",
    "    return novo_cardapio"
   ]
  },
  {
   "cell_type": "code",
   "execution_count": null,
   "metadata": {
    "execution": {
     "iopub.execute_input": "2025-07-26T16:54:06.108030Z",
     "iopub.status.busy": "2025-07-26T16:54:06.107955Z",
     "iopub.status.idle": "2025-07-26T16:54:06.110757Z",
     "shell.execute_reply": "2025-07-26T16:54:06.110528Z"
    },
    "id": "YC0YFgdDy7Dn"
   },
   "outputs": [],
   "source": [
    "def algoritmo_genetico(\n",
    "    populacao_inicial=populacao_inicial,\n",
    "    df=df_alimentos,\n",
    "    metas=METAS_NUTRICIONAIS,\n",
    "    tamanho_populacao=TAMANHO_POPULACAO,\n",
    "    num_geracoes=NUM_GERACOES\n",
    "):\n",
    "    populacao = copy.deepcopy(populacao_inicial)\n",
    "    historico_fitness = []\n",
    "\n",
    "    for g in range(num_geracoes):\n",
    "        fitnesses = [\n",
    "            calcular_fitness(calcular_nutrientes_cardapio(c, df), metas)\n",
    "            for c in populacao\n",
    "        ]\n",
    "\n",
    "        # Guardar o melhor fitness da geração\n",
    "        historico_fitness.append(max(fitnesses))\n",
    "\n",
    "        nova_populacao = []\n",
    "        selecionados = selecao_por_torneio(populacao, fitnesses)\n",
    "\n",
    "        for i in range(0, tamanho_populacao, 2):\n",
    "            pai1 = selecionados[i]\n",
    "            pai2 = selecionados[i + 1 if i + 1 < tamanho_populacao else 0]\n",
    "            filho1 = crossover(pai1, pai2)\n",
    "            filho2 = crossover(pai2, pai1)\n",
    "            nova_populacao.extend([mutacao(filho1, df), mutacao(filho2, df)])\n",
    "\n",
    "        populacao = nova_populacao[:tamanho_populacao]\n",
    "\n",
    "    fitnesses = [\n",
    "        calcular_fitness(calcular_nutrientes_cardapio(c, df), metas) for c in populacao\n",
    "    ]\n",
    "    melhor_idx = fitnesses.index(max(fitnesses))\n",
    "\n",
    "    return populacao[melhor_idx], fitnesses[melhor_idx], historico_fitness"
   ]
  },
  {
   "cell_type": "code",
   "execution_count": null,
   "metadata": {
    "colab": {
     "base_uri": "https://localhost:8080/"
    },
    "execution": {
     "iopub.execute_input": "2025-07-26T16:54:06.111888Z",
     "iopub.status.busy": "2025-07-26T16:54:06.111810Z",
     "iopub.status.idle": "2025-07-26T16:54:06.375814Z",
     "shell.execute_reply": "2025-07-26T16:54:06.375529Z"
    },
    "id": "8OPbCnrcybgu",
    "outputId": "e1382953-43c6-4349-934c-13888791fbfc"
   },
   "outputs": [],
   "source": [
    "melhor_cardapio, melhor_fitness, historico_fitness_base = algoritmo_genetico()\n",
    "\n",
    "print(\"\\nMelhor cardápio:\")\n",
    "for r, itens in melhor_cardapio.items():\n",
    "    print(f\"{r}: {'; '.join(itens)}\")\n",
    "\n",
    "nutrientes = calcular_nutrientes_cardapio(melhor_cardapio, df_alimentos)\n",
    "print(\"\\nNutrientes:\")\n",
    "for n, v in nutrientes.items():\n",
    "    print(f\"{n}: {v:.2f}\")\n",
    "\n",
    "print(f\"\\nFitness final: {melhor_fitness:.2f}\")"
   ]
  },
  {
   "cell_type": "code",
   "execution_count": null,
   "metadata": {
    "execution": {
     "iopub.execute_input": "2025-07-26T16:54:06.398621Z",
     "iopub.status.busy": "2025-07-26T16:54:06.398521Z",
     "iopub.status.idle": "2025-07-26T16:54:06.452210Z",
     "shell.execute_reply": "2025-07-26T16:54:06.451991Z"
    }
   },
   "outputs": [],
   "source": [
    "plt.figure(figsize=(10, 6))\n",
    "plt.plot(range(1, NUM_GERACOES + 1), historico_fitness_base, color=\"red\", linestyle=\"-\", linewidth=2, label=\"Sem Elitismo\")\n",
    "plt.xlabel(\"Geração\")\n",
    "plt.ylabel(\"Melhor Fitness\")\n",
    "plt.title(\"Evolução do Melhor Fitness por Geração\")\n",
    "plt.grid(True, alpha=0.3)\n",
    "plt.show()"
   ]
  },
  {
   "cell_type": "code",
   "execution_count": null,
   "metadata": {
    "execution": {
     "iopub.execute_input": "2025-07-26T16:54:06.453282Z",
     "iopub.status.busy": "2025-07-26T16:54:06.453203Z",
     "iopub.status.idle": "2025-07-26T16:54:06.455948Z",
     "shell.execute_reply": "2025-07-26T16:54:06.455729Z"
    }
   },
   "outputs": [],
   "source": [
    "def algoritmo_genetico_com_elitismo(\n",
    "    populacao_inicial=populacao_inicial,\n",
    "    df=df_alimentos,\n",
    "    metas=METAS_NUTRICIONAIS,\n",
    "    tamanho_populacao=TAMANHO_POPULACAO,\n",
    "    num_geracoes=NUM_GERACOES,\n",
    "):\n",
    "    populacao = copy.deepcopy(populacao_inicial)\n",
    "    historico_fitness = []\n",
    "\n",
    "    for g in range(num_geracoes):\n",
    "        fitnesses = [\n",
    "            calcular_fitness(calcular_nutrientes_cardapio(c, df), metas)\n",
    "            for c in populacao\n",
    "        ]\n",
    "\n",
    "        # Guardar o melhor fitness da geração\n",
    "        historico_fitness.append(max(fitnesses))\n",
    "\n",
    "        # Elitismo: encontrar o melhor indivíduo da geração atual\n",
    "        melhor_idx = fitnesses.index(max(fitnesses))\n",
    "        elite = copy.deepcopy(populacao[melhor_idx])  # Cópia profunda do elite\n",
    "\n",
    "        nova_populacao = []\n",
    "        selecionados = selecao_por_torneio(populacao, fitnesses)\n",
    "\n",
    "        # Gerar N-1 novos indivíduos (deixando espaço para o elite)\n",
    "        for i in range(0, tamanho_populacao - 1, 2):\n",
    "            pai1 = selecionados[i]\n",
    "            pai2 = selecionados[i + 1 if i + 1 < tamanho_populacao else 0]\n",
    "            filho1 = crossover(pai1, pai2)\n",
    "            filho2 = crossover(pai2, pai1)\n",
    "            nova_populacao.extend([mutacao(filho1, df), mutacao(filho2, df)])\n",
    "\n",
    "        # Se N for par, nova_populacao terá N-1 ou N-2 indivíduos, então ajustamos:\n",
    "        nova_populacao = nova_populacao[: tamanho_populacao - 1]\n",
    "\n",
    "        # Adiciona o elite à nova população\n",
    "        nova_populacao.append(elite)\n",
    "\n",
    "        populacao = nova_populacao[:tamanho_populacao]\n",
    "\n",
    "    fitnesses = [\n",
    "        calcular_fitness(calcular_nutrientes_cardapio(c, df), metas) for c in populacao\n",
    "    ]\n",
    "    melhor_idx = fitnesses.index(max(fitnesses))\n",
    "\n",
    "    return populacao[melhor_idx], fitnesses[melhor_idx], historico_fitness"
   ]
  },
  {
   "cell_type": "code",
   "execution_count": null,
   "metadata": {
    "execution": {
     "iopub.execute_input": "2025-07-26T16:54:06.457050Z",
     "iopub.status.busy": "2025-07-26T16:54:06.456963Z",
     "iopub.status.idle": "2025-07-26T16:54:06.753558Z",
     "shell.execute_reply": "2025-07-26T16:54:06.753327Z"
    }
   },
   "outputs": [],
   "source": [
    "melhor_cardapio, melhor_fitness, historico_fitness_elitismo = algoritmo_genetico_com_elitismo()\n",
    "\n",
    "print(\"\\nMelhor cardápio:\")\n",
    "for r, itens in melhor_cardapio.items():\n",
    "    print(f\"{r}: {'; '.join(itens)}\")\n",
    "\n",
    "nutrientes = calcular_nutrientes_cardapio(melhor_cardapio, df_alimentos)\n",
    "print(\"\\nNutrientes:\")\n",
    "for n, v in nutrientes.items():\n",
    "    print(f\"{n}: {v:.2f}\")\n",
    "\n",
    "print(f\"\\nFitness final: {melhor_fitness:.2f}\")"
   ]
  },
  {
   "cell_type": "code",
   "execution_count": null,
   "metadata": {
    "execution": {
     "iopub.execute_input": "2025-07-26T16:54:06.757919Z",
     "iopub.status.busy": "2025-07-26T16:54:06.757819Z",
     "iopub.status.idle": "2025-07-26T16:54:06.795830Z",
     "shell.execute_reply": "2025-07-26T16:54:06.795597Z"
    }
   },
   "outputs": [],
   "source": [
    "plt.figure(figsize=(10, 6))\n",
    "\n",
    "plt.plot(range(1, NUM_GERACOES + 1), historico_fitness_base, color=\"red\", linestyle=\"-\", linewidth=2, label=\"Sem Elitismo\")\n",
    "plt.plot(range(1, NUM_GERACOES + 1), historico_fitness_elitismo, color=\"blue\", linestyle=\"-\", linewidth=2, label=\"Com Elitismo\")\n",
    "plt.legend()\n",
    "plt.xlabel(\"Geração\")\n",
    "plt.ylabel(\"Melhor Fitness\")\n",
    "plt.title(\"Evolução do Melhor Fitness por Geração\")\n",
    "plt.grid(True, alpha=0.3)\n",
    "plt.show()"
   ]
  },
  {
   "cell_type": "code",
   "execution_count": null,
   "metadata": {},
   "outputs": [],
   "source": []
  }
 ],
 "metadata": {
  "colab": {
   "provenance": []
  },
  "kernelspec": {
   "display_name": "Python 3",
   "name": "python3"
  },
  "language_info": {
   "codemirror_mode": {
    "name": "ipython",
    "version": 3
   },
   "file_extension": ".py",
   "mimetype": "text/x-python",
   "name": "python",
   "nbconvert_exporter": "python",
   "pygments_lexer": "ipython3",
   "version": "3.12.6"
  }
 },
 "nbformat": 4,
 "nbformat_minor": 0
}
