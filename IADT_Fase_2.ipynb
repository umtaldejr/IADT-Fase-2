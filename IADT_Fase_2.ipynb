{
 "cells": [
  {
   "cell_type": "code",
   "execution_count": null,
   "metadata": {
    "execution": {
     "iopub.execute_input": "2025-07-26T16:54:05.526500Z",
     "iopub.status.busy": "2025-07-26T16:54:05.526059Z",
     "iopub.status.idle": "2025-07-26T16:54:06.072062Z",
     "shell.execute_reply": "2025-07-26T16:54:06.071779Z"
    }
   },
   "outputs": [],
   "source": [
    "import pandas as pd\n",
    "import random\n",
    "import copy\n",
    "import matplotlib.pyplot as plt"
   ]
  },
  {
   "cell_type": "code",
   "execution_count": null,
   "metadata": {
    "execution": {
     "iopub.execute_input": "2025-07-26T16:54:06.073645Z",
     "iopub.status.busy": "2025-07-26T16:54:06.073472Z",
     "iopub.status.idle": "2025-07-26T16:54:06.082498Z",
     "shell.execute_reply": "2025-07-26T16:54:06.082210Z"
    },
    "id": "98ec10ab"
   },
   "outputs": [],
   "source": [
    "df_alimentos = pd.read_csv(\"alimentos.csv\")"
   ]
  },
  {
   "cell_type": "code",
   "execution_count": null,
   "metadata": {
    "execution": {
     "iopub.execute_input": "2025-07-26T16:54:06.084004Z",
     "iopub.status.busy": "2025-07-26T16:54:06.083901Z",
     "iopub.status.idle": "2025-07-26T16:54:06.085838Z",
     "shell.execute_reply": "2025-07-26T16:54:06.085616Z"
    }
   },
   "outputs": [],
   "source": [
    "METAS_NUTRICIONAIS = {\n",
    "    \"Energia..kcal.\": 2000,\n",
    "    \"Proteína..g.\": 75,\n",
    "    \"Carboidrato..g.\": 275,\n",
    "    \"Lipídeos..g.\": 70,\n",
    "}\n",
    "\n",
    "TAMANHO_POPULACAO = 30\n",
    "NUM_GERACOES = 1000\n",
    "NUM_ELITISTAS = 2\n",
    "TAXA_MUTACAO = 0.5\n",
    "TAXA_ELITISMO = 0.1\n",
    "TAMANHO_TORNEIO = 3\n",
    "\n",
    "random.seed(42)"
   ]
  },
  {
   "cell_type": "code",
   "execution_count": null,
   "metadata": {
    "execution": {
     "iopub.execute_input": "2025-07-26T16:54:06.086939Z",
     "iopub.status.busy": "2025-07-26T16:54:06.086846Z",
     "iopub.status.idle": "2025-07-26T16:54:06.091708Z",
     "shell.execute_reply": "2025-07-26T16:54:06.091421Z"
    },
    "id": "JaehgcBFxmVo"
   },
   "outputs": [],
   "source": [
    "def gerar_cardapio_aleatorio(df):\n",
    "    \"\"\"Gera um cardápio aleatório com base nos alimentos disponíveis.\"\"\"\n",
    "\n",
    "    alimentos = df[\"Descrição dos alimentos\"].dropna().unique().tolist()\n",
    "\n",
    "    cardapio = {\n",
    "        \"cafe\": random.sample(alimentos, k=3),\n",
    "        \"almoco\": random.sample(alimentos, k=3),\n",
    "        \"jantar\": random.sample(alimentos, k=3),\n",
    "    }\n",
    "\n",
    "    return cardapio"
   ]
  },
  {
   "cell_type": "code",
   "execution_count": null,
   "metadata": {},
   "outputs": [],
   "source": [
    "populacao_inicial = [\n",
    "    gerar_cardapio_aleatorio(df_alimentos) for _ in range(TAMANHO_POPULACAO)\n",
    "]"
   ]
  },
  {
   "cell_type": "code",
   "execution_count": null,
   "metadata": {
    "execution": {
     "iopub.execute_input": "2025-07-26T16:54:06.092999Z",
     "iopub.status.busy": "2025-07-26T16:54:06.092904Z",
     "iopub.status.idle": "2025-07-26T16:54:06.095079Z",
     "shell.execute_reply": "2025-07-26T16:54:06.094890Z"
    },
    "id": "PCqmKDHIx9qP"
   },
   "outputs": [],
   "source": [
    "def calcular_nutrientes_cardapio(cardapio, df):\n",
    "    \"\"\"Calcula os nutrientes de um cardápio com base nos alimentos e nas quantidades.\"\"\"\n",
    "\n",
    "    total = {\n",
    "        \"Energia..kcal.\": 0,\n",
    "        \"Proteína..g.\": 0,\n",
    "        \"Carboidrato..g.\": 0,\n",
    "        \"Lipídeos..g.\": 0,\n",
    "    }\n",
    "\n",
    "    for refeicao, alimentos in cardapio.items():\n",
    "        for alimento in alimentos:\n",
    "            dados = df[df[\"Descrição dos alimentos\"] == alimento]\n",
    "            if not dados.empty:\n",
    "                for chave in total.keys():\n",
    "                    valor = dados[chave].values[0]\n",
    "                    if pd.notna(valor):\n",
    "                        total[chave] += valor\n",
    "\n",
    "    return total"
   ]
  },
  {
   "cell_type": "code",
   "execution_count": null,
   "metadata": {},
   "outputs": [],
   "source": [
    "def calcular_fitness(nutrientes, metas):\n",
    "    \"\"\"\n",
    "    Calcula o fitness de um cardápio com base nos nutrientes e nas metas estabelecidas.\n",
    "    Quanto menor o desvio, maior o fitness.\n",
    "    \"\"\"\n",
    "\n",
    "    fitness = 0\n",
    "\n",
    "    for nutriente in metas.keys():\n",
    "        valor_real = nutrientes.get(nutriente, 0)\n",
    "        valor_meta = metas[nutriente]\n",
    "        desvio = abs(valor_real - valor_meta)\n",
    "        fitness -= desvio\n",
    "\n",
    "    return fitness"
   ]
  },
  {
   "cell_type": "code",
   "execution_count": null,
   "metadata": {
    "execution": {
     "iopub.execute_input": "2025-07-26T16:54:06.098736Z",
     "iopub.status.busy": "2025-07-26T16:54:06.098660Z",
     "iopub.status.idle": "2025-07-26T16:54:06.100599Z",
     "shell.execute_reply": "2025-07-26T16:54:06.100309Z"
    },
    "id": "dHwnoOgzy3Gf"
   },
   "outputs": [],
   "source": [
    "def selecao_por_torneio(populacao, fitnesses, tamanho_torneio=TAMANHO_TORNEIO):\n",
    "    \"\"\"Realiza a seleção por torneio em uma população de cardápios.\"\"\"\n",
    "\n",
    "    selecionados = []\n",
    "\n",
    "    for _ in range(len(populacao)):\n",
    "        participantes = random.sample(list(zip(populacao, fitnesses)), tamanho_torneio)\n",
    "        vencedor = max(participantes, key=lambda x: x[1])\n",
    "        selecionados.append(vencedor[0])\n",
    "\n",
    "    return selecionados"
   ]
  },
  {
   "cell_type": "code",
   "execution_count": null,
   "metadata": {
    "execution": {
     "iopub.execute_input": "2025-07-26T16:54:06.102001Z",
     "iopub.status.busy": "2025-07-26T16:54:06.101915Z",
     "iopub.status.idle": "2025-07-26T16:54:06.103761Z",
     "shell.execute_reply": "2025-07-26T16:54:06.103490Z"
    },
    "id": "Ynvfb4lKy4Jg"
   },
   "outputs": [],
   "source": [
    "def crossover(card1, card2):\n",
    "    \"\"\"Realiza o crossover (cruzamento) entre dois cardápios.\"\"\"\n",
    "\n",
    "    filho = {}\n",
    "\n",
    "    # Para cada refeição, escolhe aleatoriamente de qual cardápio herdar (card1 e card2)\n",
    "    for refeicao in [\"cafe\", \"almoco\", \"jantar\"]:\n",
    "        lista_escolhida = random.choice([card1[refeicao], card2[refeicao]])\n",
    "        filho[refeicao] = lista_escolhida.copy()\n",
    "\n",
    "    return filho"
   ]
  },
  {
   "cell_type": "code",
   "execution_count": null,
   "metadata": {
    "execution": {
     "iopub.execute_input": "2025-07-26T16:54:06.104866Z",
     "iopub.status.busy": "2025-07-26T16:54:06.104792Z",
     "iopub.status.idle": "2025-07-26T16:54:06.106803Z",
     "shell.execute_reply": "2025-07-26T16:54:06.106513Z"
    },
    "id": "tRoufuBGy5nK"
   },
   "outputs": [],
   "source": [
    "def mutacao_alimento(cardapio, df, taxa_mutacao=TAXA_MUTACAO):\n",
    "    \"\"\"Realiza a mutação de um alimento em um cardápio.\"\"\"\n",
    "\n",
    "    novo_cardapio = copy.deepcopy(cardapio)\n",
    "\n",
    "    # Decide se vai ocorrer mutação (taxa_mutacao)\n",
    "    if random.random() < taxa_mutacao:\n",
    "        # Escolhe aleatoriamente uma refeição\n",
    "        refeicoes_com_alimentos = [r for r in novo_cardapio if novo_cardapio[r]]\n",
    "        if refeicoes_com_alimentos:\n",
    "            refeicao_escolhida = random.choice(refeicoes_com_alimentos)\n",
    "            # Escolhe aleatoriamente um alimento dessa refeição\n",
    "            idx = random.randint(0, len(novo_cardapio[refeicao_escolhida]) - 1)\n",
    "            # Escolhe um novo alimento possível\n",
    "            alimentos_possiveis = df[\"Descrição dos alimentos\"].dropna().unique().tolist()\n",
    "            novo_cardapio[refeicao_escolhida][idx] = random.choice(alimentos_possiveis)\n",
    "\n",
    "    return novo_cardapio"
   ]
  },
  {
   "cell_type": "code",
   "execution_count": null,
   "metadata": {},
   "outputs": [],
   "source": [
    "def mutacao_refeicao(cardapio, df, taxa_mutacao=TAXA_MUTACAO):\n",
    "    \"\"\"Realiza a mutação de uma refeição em um cardápio.\"\"\"\n",
    "\n",
    "    novo_cardapio = copy.deepcopy(cardapio)\n",
    "\n",
    "    # Decide se vai ocorrer mutação (taxa_mutacao)\n",
    "    if random.random() < taxa_mutacao:\n",
    "        # Escolhe aleatoriamente uma refeição\n",
    "        refeicoes = list(novo_cardapio.keys())\n",
    "        refeicao_escolhida = random.choice(refeicoes)\n",
    "        # Escolhe aleatoriamente um alimento possível para a refeição\n",
    "        alimentos_possiveis = df[\"Descrição dos alimentos\"].dropna().unique().tolist()\n",
    "        novo_cardapio[refeicao_escolhida] = random.sample(alimentos_possiveis, k=3)\n",
    "\n",
    "    return novo_cardapio"
   ]
  },
  {
   "cell_type": "code",
   "execution_count": null,
   "metadata": {
    "execution": {
     "iopub.execute_input": "2025-07-26T16:54:06.108030Z",
     "iopub.status.busy": "2025-07-26T16:54:06.107955Z",
     "iopub.status.idle": "2025-07-26T16:54:06.110757Z",
     "shell.execute_reply": "2025-07-26T16:54:06.110528Z"
    },
    "id": "YC0YFgdDy7Dn"
   },
   "outputs": [],
   "source": [
    "def algoritmo_genetico(\n",
    "    populacao_inicial=populacao_inicial,\n",
    "    df=df_alimentos,\n",
    "    metas=METAS_NUTRICIONAIS,\n",
    "    tamanho_populacao=TAMANHO_POPULACAO,\n",
    "    num_geracoes=NUM_GERACOES,\n",
    "):\n",
    "    \"\"\"Executa um algoritmo genético para otimizar cardápios alimentares de acordo com metas nutricionais.\"\"\"\n",
    "\n",
    "    populacao = copy.deepcopy(populacao_inicial)\n",
    "    historico_fitness = []\n",
    "\n",
    "    # Para cada geração...\n",
    "    for g in range(num_geracoes):\n",
    "        # Calcula o fitness de cada indivíduo da população\n",
    "        fitnesses = [\n",
    "            calcular_fitness(calcular_nutrientes_cardapio(c, df), metas)\n",
    "            for c in populacao\n",
    "        ]\n",
    "\n",
    "        # Guarda o melhor fitness da geração atual\n",
    "        historico_fitness.append(max(fitnesses))\n",
    "\n",
    "        # Seleciona indivíduos para reprodução usando torneio\n",
    "        selecionados = selecao_por_torneio(populacao, fitnesses)\n",
    "\n",
    "        # Realiza o crossover e mutação para gerar a nova população\n",
    "        nova_populacao = []\n",
    "        for i in range(0, tamanho_populacao, 2):\n",
    "            pai1 = selecionados[i]\n",
    "            # Garante que o índice não ultrapasse o tamanho da população\n",
    "            pai2 = selecionados[i + 1 if i + 1 < tamanho_populacao else 0]\n",
    "            # Gera dois filhos a partir dos pais selecionados\n",
    "            filho1 = crossover(pai1, pai2)\n",
    "            filho2 = crossover(pai2, pai1)\n",
    "            # Aplica mutação nos filhos e adiciona à nova população\n",
    "            nova_populacao.extend(\n",
    "                [mutacao_refeicao(filho1, df), mutacao_refeicao(filho2, df)]\n",
    "            )\n",
    "\n",
    "        # Atualiza a população para a próxima geração (mantém o tamanho fixo)\n",
    "        populacao = nova_populacao[:tamanho_populacao]\n",
    "\n",
    "    # Após todas as gerações, calcula o fitness final de cada indivíduo\n",
    "    fitnesses = [\n",
    "        calcular_fitness(calcular_nutrientes_cardapio(c, df), metas) for c in populacao\n",
    "    ]\n",
    "\n",
    "    # Encontra o índice do indivíduo com melhor fitness\n",
    "    melhor_idx = fitnesses.index(max(fitnesses))\n",
    "\n",
    "    # Retorna o melhor cardápio, seu fitness e o histórico de fitness\n",
    "    return populacao[melhor_idx], fitnesses[melhor_idx], historico_fitness"
   ]
  },
  {
   "cell_type": "code",
   "execution_count": null,
   "metadata": {
    "colab": {
     "base_uri": "https://localhost:8080/"
    },
    "execution": {
     "iopub.execute_input": "2025-07-26T16:54:06.111888Z",
     "iopub.status.busy": "2025-07-26T16:54:06.111810Z",
     "iopub.status.idle": "2025-07-26T16:54:06.375814Z",
     "shell.execute_reply": "2025-07-26T16:54:06.375529Z"
    },
    "id": "8OPbCnrcybgu",
    "outputId": "e1382953-43c6-4349-934c-13888791fbfc"
   },
   "outputs": [],
   "source": [
    "melhor_cardapio, melhor_fitness, historico_fitness_base = algoritmo_genetico()\n",
    "\n",
    "print(\"\\nMelhor cardápio:\")\n",
    "for r, itens in melhor_cardapio.items():\n",
    "    print(f\"{r}: {'; '.join(itens)}\")\n",
    "\n",
    "nutrientes = calcular_nutrientes_cardapio(melhor_cardapio, df_alimentos)\n",
    "print(\"\\nNutrientes:\")\n",
    "for n, v in nutrientes.items():\n",
    "    print(f\"{n}: {v:.2f}\")\n",
    "\n",
    "print(f\"\\nFitness final: {melhor_fitness:.2f}\")"
   ]
  },
  {
   "cell_type": "code",
   "execution_count": null,
   "metadata": {
    "execution": {
     "iopub.execute_input": "2025-07-26T16:54:06.398621Z",
     "iopub.status.busy": "2025-07-26T16:54:06.398521Z",
     "iopub.status.idle": "2025-07-26T16:54:06.452210Z",
     "shell.execute_reply": "2025-07-26T16:54:06.451991Z"
    }
   },
   "outputs": [],
   "source": [
    "plt.figure(figsize=(20, 4))\n",
    "plt.plot(\n",
    "    range(1, NUM_GERACOES + 1),\n",
    "    historico_fitness_base,\n",
    "    color=\"red\",\n",
    "    linestyle=\"-\",\n",
    "    linewidth=2,\n",
    ")\n",
    "plt.xlabel(\"Geração\")\n",
    "plt.ylabel(\"Melhor Fitness\")\n",
    "plt.title(\"Evolução do Melhor Fitness por Geração\")\n",
    "plt.grid(True, alpha=0.3)\n",
    "plt.show()"
   ]
  },
  {
   "cell_type": "code",
   "execution_count": null,
   "metadata": {
    "execution": {
     "iopub.execute_input": "2025-07-26T16:54:06.453282Z",
     "iopub.status.busy": "2025-07-26T16:54:06.453203Z",
     "iopub.status.idle": "2025-07-26T16:54:06.455948Z",
     "shell.execute_reply": "2025-07-26T16:54:06.455729Z"
    }
   },
   "outputs": [],
   "source": [
    "def algoritmo_genetico_com_elitismo(\n",
    "    populacao_inicial=populacao_inicial,\n",
    "    df=df_alimentos,\n",
    "    metas=METAS_NUTRICIONAIS,\n",
    "    tamanho_populacao=TAMANHO_POPULACAO,\n",
    "    num_geracoes=NUM_GERACOES,\n",
    "):\n",
    "    \"\"\"Executa um algoritmo genético com elitismo para otimizar cardápios alimentares de acordo com metas nutricionais.\"\"\"\n",
    "\n",
    "    populacao = copy.deepcopy(populacao_inicial)\n",
    "    historico_fitness = []\n",
    "\n",
    "    # Para cada geração...\n",
    "    for g in range(num_geracoes):\n",
    "        # Calcula o fitness de cada indivíduo da população\n",
    "        fitnesses = [\n",
    "            calcular_fitness(calcular_nutrientes_cardapio(c, df), metas)\n",
    "            for c in populacao\n",
    "        ]\n",
    "\n",
    "        # Armazena o melhor fitness da geração atual no histórico\n",
    "        historico_fitness.append(max(fitnesses))\n",
    "\n",
    "        # Elitismo: encontra o melhor indivíduo da geração atual\n",
    "        melhor_idx = fitnesses.index(max(fitnesses))\n",
    "        elite = copy.deepcopy(populacao[melhor_idx])\n",
    "\n",
    "        # Seleciona indivíduos para reprodução usando torneio\n",
    "        selecionados = selecao_por_torneio(populacao, fitnesses)\n",
    "\n",
    "        nova_populacao = []\n",
    "        # Gera N-1 novos indivíduos (deixando espaço para o elite)\n",
    "        for i in range(0, tamanho_populacao - 1, 2):\n",
    "            pai1 = selecionados[i]\n",
    "            # Garante que o índice não ultrapasse o tamanho da população\n",
    "            pai2 = selecionados[i + 1 if i + 1 < tamanho_populacao else 0]\n",
    "            # Realiza o crossover entre os pais para gerar dois filhos\n",
    "            filho1 = crossover(pai1, pai2)\n",
    "            filho2 = crossover(pai2, pai1)\n",
    "            # Aplica mutação nos filhos e adiciona à nova população\n",
    "            nova_populacao.extend(\n",
    "                [mutacao_refeicao(filho1, df), mutacao_refeicao(filho2, df)]\n",
    "            )\n",
    "        nova_populacao = nova_populacao[: tamanho_populacao - 1]\n",
    "\n",
    "        # Adiciona o indivíduo elite à nova população\n",
    "        nova_populacao.append(elite)\n",
    "\n",
    "        # Atualiza a população para a próxima geração, garantindo o tamanho correto\n",
    "        populacao = nova_populacao[:tamanho_populacao]\n",
    "\n",
    "    # Após todas as gerações, calcula o fitness final de cada indivíduo\n",
    "    fitnesses = [\n",
    "        calcular_fitness(calcular_nutrientes_cardapio(c, df), metas) for c in populacao\n",
    "    ]\n",
    "\n",
    "    # Encontra o índice do melhor indivíduo da população final\n",
    "    melhor_idx = fitnesses.index(max(fitnesses))\n",
    "\n",
    "    # Retorna o melhor cardápio, seu fitness e o histórico de fitness\n",
    "    return populacao[melhor_idx], fitnesses[melhor_idx], historico_fitness"
   ]
  },
  {
   "cell_type": "code",
   "execution_count": null,
   "metadata": {
    "execution": {
     "iopub.execute_input": "2025-07-26T16:54:06.457050Z",
     "iopub.status.busy": "2025-07-26T16:54:06.456963Z",
     "iopub.status.idle": "2025-07-26T16:54:06.753558Z",
     "shell.execute_reply": "2025-07-26T16:54:06.753327Z"
    }
   },
   "outputs": [],
   "source": [
    "melhor_cardapio, melhor_fitness, historico_fitness_elitismo = algoritmo_genetico_com_elitismo()\n",
    "\n",
    "print(\"\\nMelhor cardápio:\")\n",
    "for r, itens in melhor_cardapio.items():\n",
    "    print(f\"{r}: {'; '.join(itens)}\")\n",
    "\n",
    "nutrientes = calcular_nutrientes_cardapio(melhor_cardapio, df_alimentos)\n",
    "print(\"\\nNutrientes:\")\n",
    "for n, v in nutrientes.items():\n",
    "    print(f\"{n}: {v:.2f}\")\n",
    "\n",
    "print(f\"\\nFitness final: {melhor_fitness:.2f}\")"
   ]
  },
  {
   "cell_type": "code",
   "execution_count": null,
   "metadata": {
    "execution": {
     "iopub.execute_input": "2025-07-26T16:54:06.757919Z",
     "iopub.status.busy": "2025-07-26T16:54:06.757819Z",
     "iopub.status.idle": "2025-07-26T16:54:06.795830Z",
     "shell.execute_reply": "2025-07-26T16:54:06.795597Z"
    }
   },
   "outputs": [],
   "source": [
    "plt.figure(figsize=(20, 4))\n",
    "plt.plot(\n",
    "    range(1, NUM_GERACOES + 1),\n",
    "    historico_fitness_base,\n",
    "    color=\"red\",\n",
    "    linestyle=\"-\",\n",
    "    linewidth=2,\n",
    "    label=\"Sem Elitismo\",\n",
    ")\n",
    "plt.plot(\n",
    "    range(1, NUM_GERACOES + 1),\n",
    "    historico_fitness_elitismo,\n",
    "    color=\"blue\",\n",
    "    linestyle=\"-\",\n",
    "    linewidth=2,\n",
    "    label=\"Com Elitismo\",\n",
    ")\n",
    "plt.legend()\n",
    "plt.xlabel(\"Geração\")\n",
    "plt.ylabel(\"Melhor Fitness\")\n",
    "plt.title(\"Evolução do Melhor Fitness por Geração\")\n",
    "plt.grid(True, alpha=0.3)\n",
    "plt.show()"
   ]
  },
  {
   "cell_type": "code",
   "execution_count": null,
   "metadata": {},
   "outputs": [],
   "source": [
    "def algoritmo_genetico_com_elitismo_mutacao_por_refeicao(\n",
    "    populacao_inicial=populacao_inicial,\n",
    "    df=df_alimentos,\n",
    "    metas=METAS_NUTRICIONAIS,\n",
    "    tamanho_populacao=TAMANHO_POPULACAO,\n",
    "    num_geracoes=NUM_GERACOES,\n",
    "):\n",
    "    \"\"\"Executa um algoritmo genético com elitismo e mutação por refeição\n",
    "    para otimizar cardápios alimentares de acordo com metas nutricionais.\"\"\"\n",
    "\n",
    "    populacao = copy.deepcopy(populacao_inicial)\n",
    "    historico_fitness = []\n",
    "\n",
    "    # Para cada geração...\n",
    "    for g in range(num_geracoes):\n",
    "        # Calcula o fitness de cada indivíduo da população\n",
    "        fitnesses = [\n",
    "            calcular_fitness(calcular_nutrientes_cardapio(c, df), metas)\n",
    "            for c in populacao\n",
    "        ]\n",
    "\n",
    "        # Armazena o melhor fitness da geração atual no histórico\n",
    "        historico_fitness.append(max(fitnesses))\n",
    "\n",
    "        # Elitismo: identifica o melhor indivíduo da geração atual\n",
    "        melhor_idx = fitnesses.index(max(fitnesses))\n",
    "        elite = copy.deepcopy(populacao[melhor_idx])\n",
    "\n",
    "        nova_populacao = []\n",
    "        # Seleciona indivíduos para reprodução usando torneio\n",
    "        selecionados = selecao_por_torneio(populacao, fitnesses)\n",
    "\n",
    "        # Gera N-1 novos indivíduos (deixando espaço para o elite)\n",
    "        for i in range(0, tamanho_populacao - 1, 2):\n",
    "            pai1 = selecionados[i]\n",
    "            # Garante que o índice não ultrapasse o tamanho da população\n",
    "            pai2 = selecionados[i + 1 if i + 1 < tamanho_populacao else 0]\n",
    "            # Realiza o crossover entre os pais para gerar dois filhos\n",
    "            filho1 = crossover(pai1, pai2)\n",
    "            filho2 = crossover(pai2, pai1)\n",
    "            # Aplica mutação por alimento em cada filho e adiciona à nova população\n",
    "            nova_populacao.extend(\n",
    "                [mutacao_alimento(filho1, df), mutacao_alimento(filho2, df)]\n",
    "            )\n",
    "        nova_populacao = nova_populacao[: tamanho_populacao - 1]\n",
    "\n",
    "        # Adiciona o indivíduo elite à nova população\n",
    "        nova_populacao.append(elite)\n",
    "\n",
    "        # Atualiza a população para a próxima geração\n",
    "        populacao = nova_populacao[:tamanho_populacao]\n",
    "\n",
    "    # Após todas as gerações, calcula o fitness final de cada indivíduo\n",
    "    fitnesses = [\n",
    "        calcular_fitness(calcular_nutrientes_cardapio(c, df), metas) for c in populacao\n",
    "    ]\n",
    "\n",
    "    # Identifica o índice do melhor indivíduo da população final\n",
    "    melhor_idx = fitnesses.index(max(fitnesses))\n",
    "\n",
    "    # Retorna o melhor cardápio, seu fitness e o histórico de fitness\n",
    "    return populacao[melhor_idx], fitnesses[melhor_idx], historico_fitness"
   ]
  },
  {
   "cell_type": "code",
   "execution_count": null,
   "metadata": {},
   "outputs": [],
   "source": [
    "melhor_cardapio, melhor_fitness, historico_fitness_elitismo_mutacao_por_refeicao = algoritmo_genetico_com_elitismo_mutacao_por_refeicao()\n",
    "\n",
    "print(\"\\nMelhor cardápio:\")\n",
    "for r, itens in melhor_cardapio.items():\n",
    "    print(f\"{r}: {'; '.join(itens)}\")\n",
    "\n",
    "nutrientes = calcular_nutrientes_cardapio(melhor_cardapio, df_alimentos)\n",
    "print(\"\\nNutrientes:\")\n",
    "for n, v in nutrientes.items():\n",
    "    print(f\"{n}: {v:.2f}\")\n",
    "\n",
    "print(f\"\\nFitness final: {melhor_fitness:.2f}\")"
   ]
  },
  {
   "cell_type": "code",
   "execution_count": null,
   "metadata": {},
   "outputs": [],
   "source": [
    "plt.figure(figsize=(20, 4))\n",
    "\n",
    "plt.plot(\n",
    "    range(1, NUM_GERACOES + 1),\n",
    "    historico_fitness_base,\n",
    "    color=\"red\",\n",
    "    linestyle=\"-\",\n",
    "    linewidth=2,\n",
    "    label=\"Sem Elitismo\",\n",
    ")\n",
    "plt.plot(\n",
    "    range(1, NUM_GERACOES + 1),\n",
    "    historico_fitness_elitismo,\n",
    "    color=\"blue\",\n",
    "    linestyle=\"-\",\n",
    "    linewidth=2,\n",
    "    label=\"Com Elitismo\",\n",
    ")\n",
    "plt.plot(\n",
    "    range(1, NUM_GERACOES + 1),\n",
    "    historico_fitness_elitismo_mutacao_por_refeicao,\n",
    "    color=\"green\",\n",
    "    linestyle=\"-\",\n",
    "    linewidth=2,\n",
    "    label=\"Com Elitismo e Mutação por Alimento\",\n",
    ")\n",
    "plt.legend()\n",
    "plt.xlabel(\"Geração\")\n",
    "plt.ylabel(\"Melhor Fitness\")\n",
    "plt.title(\"Evolução do Melhor Fitness por Geração\")\n",
    "plt.grid(True, alpha=0.3)\n",
    "plt.show()"
   ]
  }
 ],
 "metadata": {
  "colab": {
   "provenance": []
  },
  "kernelspec": {
   "display_name": "Python 3",
   "name": "python3"
  },
  "language_info": {
   "codemirror_mode": {
    "name": "ipython",
    "version": 3
   },
   "file_extension": ".py",
   "mimetype": "text/x-python",
   "name": "python",
   "nbconvert_exporter": "python",
   "pygments_lexer": "ipython3",
   "version": "3.12.6"
  }
 },
 "nbformat": 4,
 "nbformat_minor": 0
}
