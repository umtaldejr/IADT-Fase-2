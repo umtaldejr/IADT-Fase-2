{
  "cells": [
    {
      "cell_type": "code",
      "execution_count": 1,
      "metadata": {
        "id": "98ec10ab"
      },
      "outputs": [
        {
          "name": "stdout",
          "output_type": "stream",
          "text": [
            "Dataset carregado: 597 alimentos\n",
            "Colunas: ['Número do Alimento', 'Categoria do alimento', 'Descrição dos alimentos', 'Umidade....', 'Energia..kcal.', 'Energia..kJ.', 'Proteína..g.', 'Lipídeos..g.', 'Colesterol..mg.', 'Carboidrato..g.', 'Fibra.Alimentar..g.', 'Cinzas..g.', 'Cálcio..mg.', 'Magnésio..mg.', 'Manganês..mg.', 'Fósforo..mg.', 'Ferro..mg.', 'Sódio..mg.', 'Potássio..mg.', 'Cobre..mg.', 'Zinco..mg.', 'Retinol..mcg.', 'RE..mcg.', 'RAE..mcg.', 'Tiamina..mg.', 'Riboflavina..mg.', 'Piridoxina..mg.', 'Niacina..mg.', 'Vitamina.C..mg.']\n"
          ]
        }
      ],
      "source": [
        "# Carregamento e preparação dos dados\n",
        "import pandas as pd\n",
        "import random\n",
        "import matplotlib.pyplot as plt\n",
        "\n",
        "# Carrega dataset de alimentos\n",
        "df_alimentos = pd.read_csv(\"alimentos.csv\")\n",
        "df_alimentos.fillna(0, inplace=True)\n",
        "\n",
        "print(f\"Dataset carregado: {len(df_alimentos)} alimentos\")\n",
        "print(f\"Colunas: {list(df_alimentos.columns)}\")"
      ]
    },
    {
      "cell_type": "code",
      "execution_count": 2,
      "metadata": {
        "colab": {
          "base_uri": "https://localhost:8080/"
        },
        "id": "8OPbCnrcybgu",
        "outputId": "7483a40b-1ba7-445b-e366-d740b12e7d54"
      },
      "outputs": [
        {
          "name": "stdout",
          "output_type": "stream",
          "text": [
            "=== CONFIGURAÇÕES DO EXPERIMENTO ===\n",
            "População: 30 indivíduos\n",
            "Gerações: 1000\n",
            "Elitistas: 2\n",
            "Taxa mutação: 0.1\n",
            "Seed: 42\n",
            "\n",
            "Metas nutricionais:\n",
            "  Energia..kcal.: 2000\n",
            "  Proteína..g.: 75\n",
            "  Carboidrato..g.: 275\n",
            "  Lipídeos..g.: 70\n"
          ]
        }
      ],
      "source": [
        "# =============================================================================\n",
        "# CONFIGURAÇÕES GLOBAIS DO EXPERIMENTO\n",
        "# =============================================================================\n",
        "\n",
        "# Parâmetros do algoritmo genético\n",
        "CONFIG = {\n",
        "    # População e evolução\n",
        "    \"tamanho_populacao\": 30,\n",
        "    \"num_geracoes\": 1000,\n",
        "    \"num_elitistas\": 2,\n",
        "    \"seed_random\": 42,\n",
        "    \n",
        "    # Parâmetros de mutação\n",
        "    \"taxa_mutacao\": 0.1,\n",
        "    \n",
        "    # Parâmetros de seleção\n",
        "    \"tamanho_torneio\": 3,\n",
        "    \n",
        "    # Metas nutricionais diárias\n",
        "    \"metas_nutricionais\": {\n",
        "        \"Energia..kcal.\": 2000,\n",
        "        \"Proteína..g.\": 75,\n",
        "        \"Carboidrato..g.\": 275,\n",
        "        \"Lipídeos..g.\": 70,\n",
        "    }\n",
        "}\n",
        "\n",
        "print(\"=== CONFIGURAÇÕES DO EXPERIMENTO ===\")\n",
        "print(f\"População: {CONFIG['tamanho_populacao']} indivíduos\")\n",
        "print(f\"Gerações: {CONFIG['num_geracoes']}\")\n",
        "print(f\"Elitistas: {CONFIG['num_elitistas']}\")\n",
        "print(f\"Taxa mutação: {CONFIG['taxa_mutacao']}\")\n",
        "print(f\"Seed: {CONFIG['seed_random']}\")\n",
        "\n",
        "print(f\"\\nMetas nutricionais:\")\n",
        "for nutriente, meta in CONFIG[\"metas_nutricionais\"].items():\n",
        "    print(f\"  {nutriente}: {meta}\")\n",
        "\n",
        "\n",
        "random.seed(CONFIG[\"seed_random\"])  # Para reprodutibilidade"
      ]
    },
    {
      "cell_type": "code",
      "execution_count": 3,
      "metadata": {
        "id": "JaehgcBFxmVo"
      },
      "outputs": [],
      "source": [
        "def gerar_cardapio_aleatorio(df):\n",
        "    \"\"\"Gera um cardápio aleatório com 3 refeições (café, almoço, jantar)\"\"\"\n",
        "    alimentos = df[\"Descrição dos alimentos\"].dropna().unique().tolist()\n",
        "\n",
        "    cardapio = {\n",
        "        \"cafe\": random.sample(alimentos, k=random.randint(2, 3)),\n",
        "        \"almoco\": random.sample(alimentos, k=random.randint(2, 3)),\n",
        "        \"jantar\": random.sample(alimentos, k=random.randint(2, 3)),\n",
        "    }\n",
        "\n",
        "    return cardapio"
      ]
    },
    {
      "cell_type": "code",
      "execution_count": 4,
      "metadata": {},
      "outputs": [
        {
          "name": "stdout",
          "output_type": "stream",
          "text": [
            "\n",
            "Gerando população inicial comum (30 indivíduos)...\n",
            "✅ População inicial gerada\n"
          ]
        }
      ],
      "source": [
        "# Gerar população inicial comum para comparação justa\n",
        "print(f\"\\nGerando população inicial comum ({CONFIG['tamanho_populacao']} indivíduos)...\")\n",
        "populacao_inicial = [gerar_cardapio_aleatorio(df_alimentos) for _ in range(CONFIG[\"tamanho_populacao\"])]\n",
        "print(\"✅ População inicial gerada\")"
      ]
    },
    {
      "cell_type": "code",
      "execution_count": 5,
      "metadata": {
        "id": "PCqmKDHIx9qP"
      },
      "outputs": [],
      "source": [
        "def calcular_nutrientes_cardapio(cardapio, df):\n",
        "    \"\"\"Calcula o total de nutrientes de um cardápio\"\"\"\n",
        "    total = {\n",
        "        \"Energia..kcal.\": 0,\n",
        "        \"Proteína..g.\": 0,\n",
        "        \"Carboidrato..g.\": 0,\n",
        "        \"Lipídeos..g.\": 0,\n",
        "    }\n",
        "\n",
        "    for refeicao, alimentos in cardapio.items():\n",
        "        for alimento in alimentos:\n",
        "            dados = df[df[\"Descrição dos alimentos\"] == alimento]\n",
        "            if not dados.empty:\n",
        "                for chave in total.keys():\n",
        "                    valor = dados[chave].values[0]\n",
        "                    if pd.notna(valor):\n",
        "                        total[chave] += valor\n",
        "\n",
        "    return total"
      ]
    },
    {
      "cell_type": "code",
      "execution_count": 6,
      "metadata": {
        "id": "2d0l8h9jyFdi"
      },
      "outputs": [],
      "source": [
        "def calcular_fitness(nutrientes, metas):\n",
        "    \"\"\"Calcula fitness: quanto menor o desvio das metas, melhor\"\"\"\n",
        "    fitness = 0\n",
        "\n",
        "    for chave in metas.keys():\n",
        "        valor_real = nutrientes.get(chave, 0)\n",
        "        valor_meta = metas[chave]\n",
        "        desvio = abs(valor_real - valor_meta)\n",
        "        fitness -= desvio  # Penaliza desvios\n",
        "\n",
        "    return fitness"
      ]
    },
    {
      "cell_type": "code",
      "execution_count": 7,
      "metadata": {
        "id": "dHwnoOgzy3Gf"
      },
      "outputs": [],
      "source": [
        "def selecao_por_torneio(populacao, fitnesses):\n",
        "    \"\"\"Seleção por torneio: escolhe o melhor entre k indivíduos aleatórios\"\"\"\n",
        "    k = CONFIG[\"tamanho_torneio\"]\n",
        "    selecionados = []\n",
        "\n",
        "    for _ in range(len(populacao)):\n",
        "        participantes = random.sample(list(zip(populacao, fitnesses)), k)\n",
        "        vencedor = max(participantes, key=lambda x: x[1])\n",
        "        selecionados.append(vencedor[0])\n",
        "\n",
        "    return selecionados"
      ]
    },
    {
      "cell_type": "code",
      "execution_count": 8,
      "metadata": {
        "id": "Ynvfb4lKy4Jg"
      },
      "outputs": [],
      "source": [
        "def crossover(card1, card2):\n",
        "    \"\"\"Crossover: escolhe aleatoriamente cada refeição de um dos pais\"\"\"\n",
        "    filho = {}\n",
        "\n",
        "    for refeicao in [\"cafe\", \"almoco\", \"jantar\"]:\n",
        "        filho[refeicao] = random.choice([card1[refeicao], card2[refeicao]])\n",
        "\n",
        "    return filho"
      ]
    },
    {
      "cell_type": "code",
      "execution_count": 9,
      "metadata": {},
      "outputs": [],
      "source": [
        "def mutacao_refeicao_completa(cardapio, df):\n",
        "    \"\"\"Mutação básica: troca uma refeição inteira (alta variação)\"\"\"\n",
        "    taxa = CONFIG[\"taxa_mutacao\"]\n",
        "    novo = {ref: list(itens) for ref, itens in cardapio.items()}\n",
        "    alimentos_possiveis = df[\"Descrição dos alimentos\"].dropna().unique().tolist()\n",
        "\n",
        "    for refeicao in novo:\n",
        "        if random.random() < taxa:\n",
        "            # Substitui a refeição inteira\n",
        "            novo[refeicao] = random.sample(alimentos_possiveis, \n",
        "                                         k=random.randint(2, 3))\n",
        "\n",
        "    return novo"
      ]
    },
    {
      "cell_type": "code",
      "execution_count": 10,
      "metadata": {},
      "outputs": [],
      "source": [
        "def algoritmo_genetico_basico(df, populacao_inicial=None):\n",
        "    \"\"\"Algoritmo genético básico sem elitismo\"\"\"\n",
        "    metas = CONFIG[\"metas_nutricionais\"]\n",
        "    geracoes = CONFIG[\"num_geracoes\"]\n",
        "    N = CONFIG[\"tamanho_populacao\"]\n",
        "    \n",
        "    if populacao_inicial is not None:\n",
        "        # Deep copy da população inicial\n",
        "        populacao = [{ref: list(itens) for ref, itens in cardapio.items()} \n",
        "                    for cardapio in populacao_inicial]\n",
        "    else:\n",
        "        populacao = [gerar_cardapio_aleatorio(df) for _ in range(N)]\n",
        "    \n",
        "    fitness_max_evolucao = []\n",
        "    fitness_medio_evolucao = []\n",
        "\n",
        "    for g in range(geracoes):\n",
        "        # Avalia população\n",
        "        fitnesses = [\n",
        "            calcular_fitness(calcular_nutrientes_cardapio(c, df), metas)\n",
        "            for c in populacao\n",
        "        ]\n",
        "\n",
        "        fitness_max_evolucao.append(max(fitnesses))\n",
        "        fitness_medio_evolucao.append(sum(fitnesses) / len(fitnesses))\n",
        "\n",
        "        # Seleção, crossover e mutação\n",
        "        selecionados = selecao_por_torneio(populacao, fitnesses)\n",
        "        nova_populacao = []\n",
        "        \n",
        "        for i in range(0, N, 2):\n",
        "            pai1 = selecionados[i]\n",
        "            pai2 = selecionados[i + 1 if i + 1 < N else 0]\n",
        "            filho1 = crossover(pai1, pai2)\n",
        "            filho2 = crossover(pai2, pai1)\n",
        "            nova_populacao.extend([\n",
        "                mutacao_refeicao_completa(filho1, df), \n",
        "                mutacao_refeicao_completa(filho2, df)\n",
        "            ])\n",
        "\n",
        "        populacao = nova_populacao[:N]\n",
        "\n",
        "    # Retorna o melhor\n",
        "    fitnesses = [\n",
        "        calcular_fitness(calcular_nutrientes_cardapio(c, df), metas) \n",
        "        for c in populacao\n",
        "    ]\n",
        "    melhor_idx = fitnesses.index(max(fitnesses))\n",
        "\n",
        "    return (\n",
        "        populacao[melhor_idx],\n",
        "        fitnesses[melhor_idx],\n",
        "        fitness_max_evolucao,\n",
        "        fitness_medio_evolucao,\n",
        "    )"
      ]
    },
    {
      "cell_type": "code",
      "execution_count": 11,
      "metadata": {},
      "outputs": [
        {
          "name": "stdout",
          "output_type": "stream",
          "text": [
            "\n",
            "=== ANÁLISE DA POPULAÇÃO INICIAL COMUM ===\n",
            "Melhor fitness inicial: -152.6\n",
            "Fitness médio inicial: -982.2\n",
            "\n",
            "=== FASE 1: ALGORITMO GENÉTICO BÁSICO ===\n",
            "Problema: Mutação troca refeições inteiras, causando alta variação no fitness\n",
            "Usando população inicial comum para comparação justa...\n",
            "\n",
            "Melhor cardápio encontrado:\n",
            "  Cafe: Farinha, de trigo; Espinafre, Nova Zelândia, refogado; Carne, bovina, picanha, com gordura, grelhada\n",
            "  Almoco: Pastel, de carne, frito; Brócolis, cru; Torrada, pão francês\n",
            "  Jantar: Geléia, mocotó, natural; Pastel, de carne, frito\n",
            "\n",
            "Nutrientes obtidos vs Metas:\n",
            "  Energia..kcal.: 2000.0 (meta: 2000, desvio: 0.0)\n",
            "  Proteína..g.: 75.3 (meta: 75, desvio: 0.3)\n",
            "  Carboidrato..g.: 269.7 (meta: 275, desvio: 5.3)\n",
            "  Lipídeos..g.: 70.2 (meta: 70, desvio: 0.2)\n",
            "\n",
            "Fitness final: -5.80\n"
          ]
        }
      ],
      "source": [
        "# Análise da população inicial comum\n",
        "print(\"\\n=== ANÁLISE DA POPULAÇÃO INICIAL COMUM ===\")\n",
        "fitnesses_iniciais = [\n",
        "    calcular_fitness(calcular_nutrientes_cardapio(c, df_alimentos), CONFIG[\"metas_nutricionais\"])\n",
        "    for c in populacao_inicial\n",
        "]\n",
        "melhor_fitness_inicial = max(fitnesses_iniciais)\n",
        "fitness_medio_inicial = sum(fitnesses_iniciais) / len(fitnesses_iniciais)\n",
        "print(f\"Melhor fitness inicial: {melhor_fitness_inicial:.1f}\")\n",
        "print(f\"Fitness médio inicial: {fitness_medio_inicial:.1f}\")\n",
        "\n",
        "# FASE 1: Algoritmo Genético Básico\n",
        "print(\"\\n=== FASE 1: ALGORITMO GENÉTICO BÁSICO ===\")\n",
        "print(\"Problema: Mutação troca refeições inteiras, causando alta variação no fitness\")\n",
        "print(\"Usando população inicial comum para comparação justa...\")\n",
        "\n",
        "melhor_cardapio_basico, melhor_fitness_basico, fit_max_basico, fit_med_basico = algoritmo_genetico_basico(\n",
        "    df_alimentos, populacao_inicial=populacao_inicial\n",
        ")\n",
        "\n",
        "print(\"\\nMelhor cardápio encontrado:\")\n",
        "for refeicao, itens in melhor_cardapio_basico.items():\n",
        "    print(f\"  {refeicao.title()}: {'; '.join(itens)}\")\n",
        "\n",
        "nutrientes_basico = calcular_nutrientes_cardapio(melhor_cardapio_basico, df_alimentos)\n",
        "print(f\"\\nNutrientes obtidos vs Metas:\")\n",
        "for nutriente, valor in nutrientes_basico.items():\n",
        "    meta = CONFIG[\"metas_nutricionais\"][nutriente]\n",
        "    desvio = abs(valor - meta)\n",
        "    print(f\"  {nutriente}: {valor:.1f} (meta: {meta}, desvio: {desvio:.1f})\")\n",
        "\n",
        "print(f\"\\nFitness final: {melhor_fitness_basico:.2f}\")"
      ]
    },
    {
      "cell_type": "code",
      "execution_count": 12,
      "metadata": {
        "colab": {
          "base_uri": "https://localhost:8080/",
          "height": 607
        },
        "id": "QY4_og4n1q6G",
        "outputId": "8340f27b-2778-46d1-f8c7-077c4ffc36f9"
      },
      "outputs": [
        {
          "data": {
            "image/png": "[encoded data removed]",
            "text/plain": [
              "<Figure size 1200x600 with 1 Axes>"
            ]
          },
          "metadata": {},
          "output_type": "display_data"
        }
      ],
      "source": [
        "# Visualização do algoritmo básico\n",
        "plt.figure(figsize=(12, 6))\n",
        "plt.plot(fit_max_basico, label=\"Melhor Fitness\", linewidth=2, color='red')\n",
        "plt.xlabel(\"Geração\")\n",
        "plt.ylabel(\"Fitness\")\n",
        "plt.title(\"FASE 1: Algoritmo Genético Básico\\n(Note a alta variação no fitness)\")\n",
        "plt.legend()\n",
        "plt.grid(True, alpha=0.3)\n",
        "plt.tight_layout()\n",
        "plt.show()"
      ]
    },
    {
      "cell_type": "code",
      "execution_count": 13,
      "metadata": {},
      "outputs": [],
      "source": [
        "def algoritmo_genetico_com_elitismo(df, populacao_inicial=None):\n",
        "    \"\"\"Algoritmo genético com elitismo: preserva os melhores indivíduos\"\"\"\n",
        "    metas = CONFIG[\"metas_nutricionais\"]\n",
        "    geracoes = CONFIG[\"num_geracoes\"]\n",
        "    N = CONFIG[\"tamanho_populacao\"]\n",
        "    num_elitistas = CONFIG[\"num_elitistas\"]\n",
        "    \n",
        "    # Inicializa população\n",
        "    if populacao_inicial is not None:\n",
        "        populacao = [{ref: list(itens) for ref, itens in cardapio.items()} \n",
        "                    for cardapio in populacao_inicial]\n",
        "    else:\n",
        "        populacao = [gerar_cardapio_aleatorio(df) for _ in range(N)]\n",
        "\n",
        "    fitness_max_evolucao = []\n",
        "    fitness_medio_evolucao = []\n",
        "\n",
        "    for g in range(geracoes):\n",
        "        fitnesses = [calcular_fitness(calcular_nutrientes_cardapio(c, df), metas) for c in populacao]\n",
        "        \n",
        "        fitness_max_evolucao.append(max(fitnesses))\n",
        "        fitness_medio_evolucao.append(sum(fitnesses) / len(fitnesses))\n",
        "\n",
        "        # ELITISMO: preserva os melhores\n",
        "        elite_indices = sorted(range(len(fitnesses)), key=lambda i: fitnesses[i], reverse=True)[:num_elitistas]\n",
        "        elite = [populacao[i] for i in elite_indices]\n",
        "\n",
        "        nova_populacao = elite.copy()\n",
        "        selecionados = selecao_por_torneio(populacao, fitnesses)\n",
        "\n",
        "        while len(nova_populacao) < N:\n",
        "            i = random.randint(0, len(selecionados) - 1)\n",
        "            j = random.randint(0, len(selecionados) - 1)\n",
        "            pai1 = selecionados[i]\n",
        "            pai2 = selecionados[j]\n",
        "            filho1 = crossover(pai1, pai2)\n",
        "            filho2 = crossover(pai2, pai1)\n",
        "            nova_populacao.append(mutacao_refeicao_completa(filho1, df))\n",
        "            if len(nova_populacao) < N:\n",
        "                nova_populacao.append(mutacao_refeicao_completa(filho2, df))\n",
        "\n",
        "        populacao = nova_populacao\n",
        "\n",
        "    # Retorna o melhor indivíduo\n",
        "    fitnesses = [calcular_fitness(calcular_nutrientes_cardapio(c, df), metas) for c in populacao]\n",
        "    melhor_idx = fitnesses.index(max(fitnesses))\n",
        "    \n",
        "    return (\n",
        "        populacao[melhor_idx],\n",
        "        fitnesses[melhor_idx],\n",
        "        fitness_max_evolucao,\n",
        "        fitness_medio_evolucao,\n",
        "    )"
      ]
    },
    {
      "cell_type": "code",
      "execution_count": 14,
      "metadata": {
        "id": "YC0YFgdDy7Dn"
      },
      "outputs": [
        {
          "name": "stdout",
          "output_type": "stream",
          "text": [
            "\n",
            "=== FASE 2: ALGORITMO GENÉTICO COM ELITISMO ===\n",
            "Solução: Preservar os melhores indivíduos a cada geração\n",
            "Usando a mesma população inicial...\n",
            "\n",
            "Melhor cardápio encontrado:\n",
            "  Cafe: Feijão, rajado, cru; Cocada branca; Tomate, molho industrializado\n",
            "  Almoco: Pão, de soja; Azeitona, verde, conserva; Tapioca, com manteiga\n",
            "  Jantar: Peru, congelado, assado; Frango, inteiro, com pele, cru\n",
            "\n",
            "Nutrientes obtidos vs Metas:\n",
            "  Energia..kcal.: 1996.0 (meta: 2000, desvio: 4.0)\n",
            "  Proteína..g.: 74.7 (meta: 75, desvio: 0.3)\n",
            "  Carboidrato..g.: 276.2 (meta: 275, desvio: 1.2)\n",
            "  Lipídeos..g.: 67.4 (meta: 70, desvio: 2.6)\n",
            "\n",
            "Fitness final: -8.10\n",
            "Elitismo funcionando: True (fitness nunca diminui)\n"
          ]
        }
      ],
      "source": [
        "# FASE 2: Algoritmo Genético com Elitismo\n",
        "print(\"\\n=== FASE 2: ALGORITMO GENÉTICO COM ELITISMO ===\")\n",
        "print(\"Solução: Preservar os melhores indivíduos a cada geração\")\n",
        "print(\"Usando a mesma população inicial...\")\n",
        "\n",
        "melhor_cardapio_elitismo, melhor_fitness_elitismo, fit_max_elitismo, fit_med_elitismo = algoritmo_genetico_com_elitismo(\n",
        "    df_alimentos, populacao_inicial=populacao_inicial\n",
        ")\n",
        "\n",
        "print(\"\\nMelhor cardápio encontrado:\")\n",
        "for refeicao, itens in melhor_cardapio_elitismo.items():\n",
        "    print(f\"  {refeicao.title()}: {'; '.join(itens)}\")\n",
        "\n",
        "nutrientes_elitismo = calcular_nutrientes_cardapio(melhor_cardapio_elitismo, df_alimentos)\n",
        "print(f\"\\nNutrientes obtidos vs Metas:\")\n",
        "for nutriente, valor in nutrientes_elitismo.items():\n",
        "    meta = CONFIG[\"metas_nutricionais\"][nutriente]\n",
        "    desvio = abs(valor - meta)\n",
        "    print(f\"  {nutriente}: {valor:.1f} (meta: {meta}, desvio: {desvio:.1f})\")\n",
        "\n",
        "print(f\"\\nFitness final: {melhor_fitness_elitismo:.2f}\")\n",
        "\n",
        "# Verificação do elitismo\n",
        "fitness_decresceu = any(fit_max_elitismo[i] < fit_max_elitismo[i-1] for i in range(1, len(fit_max_elitismo)))\n",
        "print(f\"Elitismo funcionando: {not fitness_decresceu} (fitness nunca diminui)\")"
      ]
    },
    {
      "cell_type": "code",
      "execution_count": 15,
      "metadata": {},
      "outputs": [
        {
          "data": {
            "image/png": "[encoded data removed]",
            "text/plain": [
              "<Figure size 1000x600 with 1 Axes>"
            ]
          },
          "metadata": {},
          "output_type": "display_data"
        }
      ],
      "source": [
        "# Visualização da fase 2: elitismo vs básico\n",
        "plt.figure(figsize=(10, 6))\n",
        "plt.plot(fit_max_basico, label=\"Básico\", linewidth=2, color='red', alpha=0.7)\n",
        "plt.plot(fit_max_elitismo, label=\"Com Elitismo\", linewidth=2, color='green')\n",
        "plt.xlabel(\"Geração\")\n",
        "plt.ylabel(\"Melhor Fitness\")\n",
        "plt.title(\"FASE 2: Comparação Básico vs Elitismo\")\n",
        "plt.legend()\n",
        "plt.grid(True, alpha=0.3)\n",
        "plt.tight_layout()\n",
        "plt.show()"
      ]
    },
    {
      "cell_type": "code",
      "execution_count": 16,
      "metadata": {},
      "outputs": [],
      "source": [
        "def mutacao_um_alimento(cardapio, df):\n",
        "    \"\"\"Mutação refinada: troca apenas um alimento por vez (pequenas melhorias)\"\"\"\n",
        "    taxa = CONFIG[\"taxa_mutacao\"]\n",
        "    novo = {ref: list(itens) for ref, itens in cardapio.items()}\n",
        "    alimentos_possiveis = df[\"Descrição dos alimentos\"].dropna().unique().tolist()\n",
        "\n",
        "    if random.random() < taxa:\n",
        "        # Escolhe uma refeição aleatória\n",
        "        refeicao = random.choice(list(novo.keys()))\n",
        "        if novo[refeicao]:\n",
        "            # Troca apenas UM alimento da refeição\n",
        "            idx = random.randint(0, len(novo[refeicao]) - 1)\n",
        "            alimento_substituto = random.choice(alimentos_possiveis)\n",
        "            novo[refeicao][idx] = alimento_substituto\n",
        "\n",
        "    return novo"
      ]
    },
    {
      "cell_type": "code",
      "execution_count": 17,
      "metadata": {},
      "outputs": [],
      "source": [
        "def algoritmo_genetico_refinado(df, populacao_inicial=None):\n",
        "    \"\"\"Algoritmo genético com elitismo e mutação refinada\"\"\"\n",
        "    metas = CONFIG[\"metas_nutricionais\"]\n",
        "    geracoes = CONFIG[\"num_geracoes\"]\n",
        "    N = CONFIG[\"tamanho_populacao\"]\n",
        "    num_elitistas = CONFIG[\"num_elitistas\"]\n",
        "    \n",
        "    # Inicializa população\n",
        "    if populacao_inicial is not None:\n",
        "        populacao = [{ref: list(itens) for ref, itens in cardapio.items()} \n",
        "                    for cardapio in populacao_inicial]\n",
        "    else:\n",
        "        populacao = [gerar_cardapio_aleatorio(df) for _ in range(N)]\n",
        "\n",
        "    fitness_max_evolucao = []\n",
        "    fitness_medio_evolucao = []\n",
        "\n",
        "    for g in range(geracoes):\n",
        "        fitnesses = [calcular_fitness(calcular_nutrientes_cardapio(c, df), metas) for c in populacao]\n",
        "        \n",
        "        fitness_max_evolucao.append(max(fitnesses))\n",
        "        fitness_medio_evolucao.append(sum(fitnesses) / len(fitnesses))\n",
        "\n",
        "        # ELITISMO: preserva os melhores\n",
        "        elite_indices = sorted(range(len(fitnesses)), key=lambda i: fitnesses[i], reverse=True)[:num_elitistas]\n",
        "        elite = [populacao[i] for i in elite_indices]\n",
        "\n",
        "        nova_populacao = elite.copy()\n",
        "        selecionados = selecao_por_torneio(populacao, fitnesses)\n",
        "\n",
        "        while len(nova_populacao) < N:\n",
        "            i = random.randint(0, len(selecionados) - 1)\n",
        "            j = random.randint(0, len(selecionados) - 1)\n",
        "            pai1 = selecionados[i]\n",
        "            pai2 = selecionados[j]\n",
        "            filho1 = crossover(pai1, pai2)\n",
        "            filho2 = crossover(pai2, pai1)\n",
        "            nova_populacao.append(mutacao_um_alimento(filho1, df))\n",
        "            if len(nova_populacao) < N:\n",
        "                nova_populacao.append(mutacao_um_alimento(filho2, df))\n",
        "\n",
        "        populacao = nova_populacao\n",
        "\n",
        "    # Retorna o melhor indivíduo\n",
        "    fitnesses = [calcular_fitness(calcular_nutrientes_cardapio(c, df), metas) for c in populacao]\n",
        "    melhor_idx = fitnesses.index(max(fitnesses))\n",
        "    \n",
        "    return (\n",
        "        populacao[melhor_idx],\n",
        "        fitnesses[melhor_idx],\n",
        "        fitness_max_evolucao,\n",
        "        fitness_medio_evolucao,\n",
        "    )"
      ]
    },
    {
      "cell_type": "code",
      "execution_count": 18,
      "metadata": {
        "id": "tRoufuBGy5nK"
      },
      "outputs": [
        {
          "name": "stdout",
          "output_type": "stream",
          "text": [
            "\n",
            "=== FASE 3: MUTAÇÃO REFINADA ===\n",
            "Melhoria: Trocar apenas um alimento por vez para permitir pequenas melhorias\n",
            "Usando a mesma população inicial...\n",
            "\n",
            "Melhor cardápio encontrado:\n",
            "  Cafe: Feijão, rajado, cru; Cocada branca; Jamelão, cru\n",
            "  Almoco: Capuccino, pó; Carne, bovina, paleta, com gordura, crua\n",
            "  Jantar: Linhaça, semente; Frango, com açafrão\n",
            "\n",
            "Nutrientes obtidos vs Metas:\n",
            "  Energia..kcal.: 2000.0 (meta: 2000, desvio: 0.0)\n",
            "  Proteína..g.: 75.4 (meta: 75, desvio: 0.4)\n",
            "  Carboidrato..g.: 275.9 (meta: 275, desvio: 0.9)\n",
            "  Lipídeos..g.: 69.5 (meta: 70, desvio: 0.5)\n",
            "\n",
            "Fitness final: -1.80\n",
            "\n",
            "=== RESUMO COMPARATIVO ===\n",
            "Fitness Inicial:    -152.6 (ponto de partida comum)\n",
            "Fitness Básico:     -5.8 (+146.8)\n",
            "Fitness Elitismo:   -8.1 (+144.5)\n",
            "Fitness Refinado:   -1.8 (+150.8)\n",
            "\n",
            "Melhorias incrementais:\n",
            "Básico → Elitismo:  +-2.3\n",
            "Elitismo → Refinado: +6.3\n"
          ]
        }
      ],
      "source": [
        "# FASE 3: Mutação Refinada\n",
        "print(\"\\n=== FASE 3: MUTAÇÃO REFINADA ===\")\n",
        "print(\"Melhoria: Trocar apenas um alimento por vez para permitir pequenas melhorias\")\n",
        "print(\"Usando a mesma população inicial...\")\n",
        "\n",
        "melhor_cardapio_refinado, melhor_fitness_refinado, fit_max_refinado, fit_med_refinado = algoritmo_genetico_refinado(\n",
        "    df_alimentos, populacao_inicial=populacao_inicial\n",
        ")\n",
        "\n",
        "print(\"\\nMelhor cardápio encontrado:\")\n",
        "for refeicao, itens in melhor_cardapio_refinado.items():\n",
        "    print(f\"  {refeicao.title()}: {'; '.join(itens)}\")\n",
        "\n",
        "nutrientes_refinado = calcular_nutrientes_cardapio(melhor_cardapio_refinado, df_alimentos)\n",
        "print(f\"\\nNutrientes obtidos vs Metas:\")\n",
        "for nutriente, valor in nutrientes_refinado.items():\n",
        "    meta = CONFIG[\"metas_nutricionais\"][nutriente]\n",
        "    desvio = abs(valor - meta)\n",
        "    print(f\"  {nutriente}: {valor:.1f} (meta: {meta}, desvio: {desvio:.1f})\")\n",
        "\n",
        "print(f\"\\nFitness final: {melhor_fitness_refinado:.2f}\")\n",
        "\n",
        "# Comparação das três abordagens\n",
        "print(f\"\\n=== RESUMO COMPARATIVO ===\")\n",
        "print(f\"Fitness Inicial:    {melhor_fitness_inicial:.1f} (ponto de partida comum)\")\n",
        "print(f\"Fitness Básico:     {melhor_fitness_basico:.1f} (+{melhor_fitness_basico - melhor_fitness_inicial:.1f})\")\n",
        "print(f\"Fitness Elitismo:   {melhor_fitness_elitismo:.1f} (+{melhor_fitness_elitismo - melhor_fitness_inicial:.1f})\")\n",
        "print(f\"Fitness Refinado:   {melhor_fitness_refinado:.1f} (+{melhor_fitness_refinado - melhor_fitness_inicial:.1f})\")\n",
        "\n",
        "# Melhorias incrementais\n",
        "print(f\"\\nMelhorias incrementais:\")\n",
        "print(f\"Básico → Elitismo:  +{melhor_fitness_elitismo - melhor_fitness_basico:.1f}\")\n",
        "print(f\"Elitismo → Refinado: +{melhor_fitness_refinado - melhor_fitness_elitismo:.1f}\")"
      ]
    },
    {
      "cell_type": "code",
      "execution_count": 19,
      "metadata": {},
      "outputs": [
        {
          "data": {
            "image/png": "[encoded data removed]",
            "text/plain": [
              "<Figure size 1200x600 with 1 Axes>"
            ]
          },
          "metadata": {},
          "output_type": "display_data"
        }
      ],
      "source": [
        "# Visualização final: evolução das três abordagens\n",
        "plt.figure(figsize=(12, 6))\n",
        "plt.plot(fit_max_basico, label=\"Básico\", linewidth=2, color='red', alpha=0.8)\n",
        "plt.plot(fit_max_elitismo, label=\"+ Elitismo\", linewidth=2, color='orange')\n",
        "plt.plot(fit_max_refinado, label=\"+ Mutação Refinada\", linewidth=2, color='green')\n",
        "plt.xlabel(\"Geração\")\n",
        "plt.ylabel(\"Melhor Fitness\")\n",
        "plt.title(\"EVOLUÇÃO FINAL: Comparação das Três Abordagens\")\n",
        "plt.legend()\n",
        "plt.grid(True, alpha=0.3)\n",
        "plt.tight_layout()\n",
        "plt.show()"
      ]
    },
    {
      "cell_type": "code",
      "execution_count": 20,
      "metadata": {},
      "outputs": [
        {
          "name": "stdout",
          "output_type": "stream",
          "text": [
            "=== ANÁLISE NUTRICIONAL FINAL ===\n",
            "Melhor resultado obtido com mutação refinada:\n",
            "Desvio total das metas: 1.8\n",
            "\n",
            "Detalhamento por nutriente:\n",
            "  Energia..kcal.      : 100.0% da meta\n",
            "  Proteína..g.        : 100.5% da meta\n",
            "  Carboidrato..g.     : 100.3% da meta\n",
            "  Lipídeos..g.        :  99.3% da meta\n",
            "\n",
            "=== CONCLUSÕES ===\n",
            "1. O algoritmo básico apresenta alta variação devido à mutação agressiva\n",
            "2. O elitismo estabiliza a evolução preservando boas soluções\n",
            "3. A mutação refinada permite ajustes finos para otimização local\n",
            "4. A combinação de elitismo + mutação refinada oferece o melhor resultado\n"
          ]
        }
      ],
      "source": [
        "# Análise dos resultados nutricionais finais\n",
        "print(\"=== ANÁLISE NUTRICIONAL FINAL ===\")\n",
        "print(f\"Melhor resultado obtido com mutação refinada:\")\n",
        "\n",
        "desvio_total = sum(abs(nutrientes_refinado[n] - CONFIG[\"metas_nutricionais\"][n]) for n in CONFIG[\"metas_nutricionais\"].keys())\n",
        "print(f\"Desvio total das metas: {desvio_total:.1f}\")\n",
        "\n",
        "print(f\"\\nDetalhamento por nutriente:\")\n",
        "for nutriente in CONFIG[\"metas_nutricionais\"].keys():\n",
        "    valor = nutrientes_refinado[nutriente]\n",
        "    meta = CONFIG[\"metas_nutricionais\"][nutriente]\n",
        "    percentual = (valor / meta) * 100\n",
        "    print(f\"  {nutriente:<20}: {percentual:5.1f}% da meta\")\n",
        "\n",
        "print(f\"\\n=== CONCLUSÕES ===\")\n",
        "print(\"1. O algoritmo básico apresenta alta variação devido à mutação agressiva\")\n",
        "print(\"2. O elitismo estabiliza a evolução preservando boas soluções\")\n",
        "print(\"3. A mutação refinada permite ajustes finos para otimização local\")\n",
        "print(\"4. A combinação de elitismo + mutação refinada oferece o melhor resultado\")"
      ]
    }
  ],
  "metadata": {
    "colab": {
      "provenance": []
    },
    "kernelspec": {
      "display_name": "base",
      "language": "python",
      "name": "python3"
    },
    "language_info": {
      "codemirror_mode": {
        "name": "ipython",
        "version": 3
      },
      "file_extension": ".py",
      "mimetype": "text/x-python",
      "name": "python",
      "nbconvert_exporter": "python",
      "pygments_lexer": "ipython3",
      "version": "3.12.6"
    }
  },
  "nbformat": 4,
  "nbformat_minor": 0
}
