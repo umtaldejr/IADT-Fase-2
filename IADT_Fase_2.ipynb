{
  "cells": [
    {
      "cell_type": "code",
      "execution_count": null,
      "metadata": {},
      "outputs": [],
      "source": [
        "import pandas as pd\n",
        "import random\n",
        "import matplotlib.pyplot as plt"
      ]
    },
    {
      "cell_type": "code",
      "execution_count": null,
      "metadata": {
        "id": "98ec10ab"
      },
      "outputs": [],
      "source": [
        "df_alimentos = pd.read_csv(\"alimentos.csv\")\n",
        "df_alimentos.fillna(0, inplace=True)"
      ]
    },
    {
      "cell_type": "code",
      "execution_count": null,
      "metadata": {},
      "outputs": [],
      "source": [
        "METAS_NUTRICIONAIS = {\n",
        "    \"Energia..kcal.\": 2000,\n",
        "    \"Proteína..g.\": 75,\n",
        "    \"Carboidrato..g.\": 275,\n",
        "    \"Lipídeos..g.\": 70,\n",
        "}\n",
        "\n",
        "TAMANHO_POPULACAO = 30\n",
        "NUM_GERACOES = 100\n",
        "NUM_ELITISTAS = 2\n",
        "TAXA_MUTACAO = 0.1\n",
        "TAMANHO_TORNEIO = 3\n",
        "\n",
        "SEED_RANDOM = 42\n",
        "random.seed(SEED_RANDOM)"
      ]
    },
    {
      "cell_type": "code",
      "execution_count": null,
      "metadata": {
        "id": "JaehgcBFxmVo"
      },
      "outputs": [],
      "source": [
        "def gerar_cardapio_aleatorio(df):\n",
        "    alimentos = df[\"Descrição dos alimentos\"].dropna().unique().tolist()\n",
        "\n",
        "    cardapio = {\n",
        "        \"cafe\": random.sample(alimentos, k=random.randint(2, 3)),\n",
        "        \"almoco\": random.sample(alimentos, k=random.randint(2, 3)),\n",
        "        \"jantar\": random.sample(alimentos, k=random.randint(2, 3)),\n",
        "    }\n",
        "\n",
        "    return cardapio"
      ]
    },
    {
      "cell_type": "code",
      "execution_count": null,
      "metadata": {
        "id": "PCqmKDHIx9qP"
      },
      "outputs": [],
      "source": [
        "def calcular_nutrientes_cardapio(cardapio, df):\n",
        "    total = {\n",
        "        \"Energia..kcal.\": 0,\n",
        "        \"Proteína..g.\": 0,\n",
        "        \"Carboidrato..g.\": 0,\n",
        "        \"Lipídeos..g.\": 0,\n",
        "    }\n",
        "\n",
        "    for refeicao, alimentos in cardapio.items():\n",
        "        for alimento in alimentos:\n",
        "            dados = df[df[\"Descrição dos alimentos\"] == alimento]\n",
        "            if not dados.empty:\n",
        "                for chave in total.keys():\n",
        "                    valor = dados[chave].values[0]\n",
        "                    if pd.notna(valor):\n",
        "                        total[chave] += valor\n",
        "\n",
        "    return total"
      ]
    },
    {
      "cell_type": "code",
      "execution_count": null,
      "metadata": {
        "id": "2d0l8h9jyFdi"
      },
      "outputs": [],
      "source": [
        "def calcular_fitness(nutrientes, metas):\n",
        "    fitness = 0\n",
        "\n",
        "    for chave in metas.keys():\n",
        "        valor_real = nutrientes.get(chave, 0)\n",
        "        valor_meta = metas[chave]\n",
        "        desvio = abs(valor_real - valor_meta)\n",
        "\n",
        "        fitness -= desvio\n",
        "\n",
        "    return fitness"
      ]
    },
    {
      "cell_type": "code",
      "execution_count": null,
      "metadata": {
        "id": "dHwnoOgzy3Gf"
      },
      "outputs": [],
      "source": [
        "def selecao_por_torneio(populacao, fitnesses, k=3):\n",
        "    selecionados = []\n",
        "\n",
        "    for _ in range(len(populacao)):\n",
        "        participantes = random.sample(list(zip(populacao, fitnesses)), k)\n",
        "        vencedor = max(participantes, key=lambda x: x[1])\n",
        "        selecionados.append(vencedor[0])\n",
        "\n",
        "    return selecionados"
      ]
    },
    {
      "cell_type": "code",
      "execution_count": null,
      "metadata": {
        "id": "Ynvfb4lKy4Jg"
      },
      "outputs": [],
      "source": [
        "def crossover(card1, card2):\n",
        "    filho = {}\n",
        "\n",
        "    for refeicao in [\"cafe\", \"almoco\", \"jantar\"]:\n",
        "        filho[refeicao] = random.choice([card1[refeicao], card2[refeicao]])\n",
        "\n",
        "    return filho"
      ]
    },
    {
      "cell_type": "code",
      "execution_count": null,
      "metadata": {
        "id": "tRoufuBGy5nK"
      },
      "outputs": [],
      "source": [
        "def mutacao(cardapio, df):\n",
        "    novo = cardapio.copy()\n",
        "\n",
        "    for refeicao in novo:\n",
        "        if random.random() < TAXA_MUTACAO:\n",
        "            alimentos_possiveis = (\n",
        "                df[\"Descrição dos alimentos\"].dropna().unique().tolist()\n",
        "            )\n",
        "            if novo[refeicao]:\n",
        "                idx = random.randint(0, len(novo[refeicao]) - 1)\n",
        "                novo[refeicao][idx] = random.choice(alimentos_possiveis)\n",
        "\n",
        "    return novo"
      ]
    },
    {
      "cell_type": "code",
      "execution_count": null,
      "metadata": {
        "id": "YC0YFgdDy7Dn"
      },
      "outputs": [],
      "source": [
        "def algoritmo_genetico(df, metas):\n",
        "    N = TAMANHO_POPULACAO\n",
        "    populacao = [gerar_cardapio_aleatorio(df) for _ in range(N)]\n",
        "\n",
        "    for g in range(NUM_GERACOES):\n",
        "        fitnesses = [\n",
        "            calcular_fitness(calcular_nutrientes_cardapio(c, df), metas)\n",
        "            for c in populacao\n",
        "        ]\n",
        "\n",
        "        nova_populacao = []\n",
        "        selecionados = selecao_por_torneio(populacao, fitnesses)\n",
        "\n",
        "        for i in range(0, N, 2):\n",
        "            pai1 = selecionados[i]\n",
        "            pai2 = selecionados[i + 1 if i + 1 < N else 0]\n",
        "            filho1 = crossover(pai1, pai2)\n",
        "            filho2 = crossover(pai2, pai1)\n",
        "            nova_populacao.extend([mutacao(filho1, df), mutacao(filho2, df)])\n",
        "\n",
        "        populacao = nova_populacao[:N]\n",
        "\n",
        "    fitnesses = [\n",
        "        calcular_fitness(calcular_nutrientes_cardapio(c, df), metas) for c in populacao\n",
        "    ]\n",
        "    melhor_idx = fitnesses.index(max(fitnesses))\n",
        "\n",
        "    return populacao[melhor_idx], fitnesses[melhor_idx]"
      ]
    },
    {
      "cell_type": "code",
      "execution_count": null,
      "metadata": {
        "colab": {
          "base_uri": "https://localhost:8080/"
        },
        "id": "8OPbCnrcybgu",
        "outputId": "e1382953-43c6-4349-934c-13888791fbfc"
      },
      "outputs": [],
      "source": [
        "melhor_cardapio, melhor_fitness = algoritmo_genetico(df_alimentos, METAS_NUTRICIONAIS)\n",
        "\n",
        "print(\"\\nMelhor cardápio:\")\n",
        "for r, itens in melhor_cardapio.items():\n",
        "    print(f\"{r}: {'; '.join(itens)}\")\n",
        "\n",
        "nutrientes = calcular_nutrientes_cardapio(melhor_cardapio, df_alimentos)\n",
        "print(\"\\nNutrientes:\")\n",
        "for n, v in nutrientes.items():\n",
        "    print(f\"{n}: {v:.2f}\")\n",
        "\n",
        "print(f\"\\nFitness final: {melhor_fitness:.2f}\")"
      ]
    }
  ],
  "metadata": {
    "colab": {
      "provenance": []
    },
    "kernelspec": {
      "display_name": "Python 3",
      "name": "python3"
    },
    "language_info": {
      "name": "python"
    }
  },
  "nbformat": 4,
  "nbformat_minor": 0
}
