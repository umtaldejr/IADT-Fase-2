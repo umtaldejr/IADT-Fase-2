{
 "cells": [
  {
   "cell_type": "code",
   "execution_count": 333,
   "metadata": {
    "execution": {
     "iopub.execute_input": "2025-07-26T16:54:05.526500Z",
     "iopub.status.busy": "2025-07-26T16:54:05.526059Z",
     "iopub.status.idle": "2025-07-26T16:54:06.072062Z",
     "shell.execute_reply": "2025-07-26T16:54:06.071779Z"
    }
   },
   "outputs": [],
   "source": [
    "import pandas as pd\n",
    "import random\n",
    "import copy\n",
    "import matplotlib.pyplot as plt\n",
    "from dataclasses import dataclass\n",
    "from typing import Dict, List, Tuple, Optional\n",
    "from abc import ABC, abstractmethod"
   ]
  },
  {
   "cell_type": "code",
   "execution_count": 334,
   "metadata": {
    "execution": {
     "iopub.execute_input": "2025-07-26T16:54:06.073645Z",
     "iopub.status.busy": "2025-07-26T16:54:06.073472Z",
     "iopub.status.idle": "2025-07-26T16:54:06.082498Z",
     "shell.execute_reply": "2025-07-26T16:54:06.082210Z"
    },
    "id": "98ec10ab"
   },
   "outputs": [],
   "source": [
    "df_alimentos = pd.read_csv(\"alimentos.csv\")"
   ]
  },
  {
   "cell_type": "code",
   "execution_count": 335,
   "metadata": {
    "execution": {
     "iopub.execute_input": "2025-07-26T16:54:06.084004Z",
     "iopub.status.busy": "2025-07-26T16:54:06.083901Z",
     "iopub.status.idle": "2025-07-26T16:54:06.085838Z",
     "shell.execute_reply": "2025-07-26T16:54:06.085616Z"
    }
   },
   "outputs": [],
   "source": [
    "@dataclass\n",
    "class NutritionalTargets:\n",
    "    \"\"\"Nutritional targets for meal planning.\"\"\"\n",
    "    energia_kcal: float = 2000\n",
    "    proteina_g: float = 75\n",
    "    carboidrato_g: float = 275\n",
    "    lipideos_g: float = 70\n",
    "    \n",
    "    def to_dict(self) -> Dict[str, float]:\n",
    "        return {\n",
    "            \"Energia..kcal.\": self.energia_kcal,\n",
    "            \"Proteína..g.\": self.proteina_g,\n",
    "            \"Carboidrato..g.\": self.carboidrato_g,\n",
    "            \"Lipídeos..g.\": self.lipideos_g,\n",
    "        }\n",
    "\n",
    "@dataclass\n",
    "class GeneticAlgorithmConfig:\n",
    "    \"\"\"Configuration parameters for the genetic algorithm.\"\"\"\n",
    "    population_size: int = 30\n",
    "    num_generations: int = 1000\n",
    "    mutation_rate: float = 0.5\n",
    "    tournament_size: int = 3\n",
    "    elitism_rate: float = 0.1\n",
    "    foods_per_meal: int = 3\n",
    "    \n",
    "    @property\n",
    "    def num_elites(self) -> int:\n",
    "        return max(1, int(self.population_size * self.elitism_rate))\n",
    "\n",
    "# Initialize configuration\n",
    "nutritional_targets = NutritionalTargets()\n",
    "ga_config = GeneticAlgorithmConfig()\n",
    "\n",
    "random.seed(42)"
   ]
  },
  {
   "cell_type": "code",
   "execution_count": 336,
   "metadata": {
    "execution": {
     "iopub.execute_input": "2025-07-26T16:54:06.086939Z",
     "iopub.status.busy": "2025-07-26T16:54:06.086846Z",
     "iopub.status.idle": "2025-07-26T16:54:06.091708Z",
     "shell.execute_reply": "2025-07-26T16:54:06.091421Z"
    },
    "id": "JaehgcBFxmVo"
   },
   "outputs": [],
   "source": [
    "class MealPlan:\n",
    "    \"\"\"Represents a meal plan with breakfast, lunch, and dinner.\"\"\"\n",
    "    \n",
    "    MEAL_TYPES = [\"cafe\", \"almoco\", \"jantar\"]\n",
    "    \n",
    "    def __init__(self, meals: Optional[Dict[str, List[str]]] = None):\n",
    "        if meals is None:\n",
    "            self.meals = {meal_type: [] for meal_type in self.MEAL_TYPES}\n",
    "        else:\n",
    "            self.meals = meals.copy()\n",
    "    \n",
    "    @classmethod\n",
    "    def generate_random(cls, df: pd.DataFrame, foods_per_meal: int = 3) -> 'MealPlan':\n",
    "        \"\"\"Generate a random meal plan from available foods.\"\"\"\n",
    "        available_foods = df[\"Descrição dos alimentos\"].dropna().unique().tolist()\n",
    "        \n",
    "        meals = {}\n",
    "        for meal_type in cls.MEAL_TYPES:\n",
    "            meals[meal_type] = random.sample(available_foods, k=foods_per_meal)\n",
    "        \n",
    "        return cls(meals)\n",
    "    \n",
    "    def calculate_nutrients(self, df: pd.DataFrame) -> Dict[str, float]:\n",
    "        \"\"\"Calculate total nutrients for this meal plan.\"\"\"\n",
    "        nutrient_columns = [\"Energia..kcal.\", \"Proteína..g.\", \"Carboidrato..g.\", \"Lipídeos..g.\"]\n",
    "        totals = {col: 0.0 for col in nutrient_columns}\n",
    "        \n",
    "        for meal_foods in self.meals.values():\n",
    "            for food in meal_foods:\n",
    "                food_data = df[df[\"Descrição dos alimentos\"] == food]\n",
    "                if not food_data.empty:\n",
    "                    for nutrient in nutrient_columns:\n",
    "                        value = food_data[nutrient].values[0]\n",
    "                        if pd.notna(value):\n",
    "                            totals[nutrient] += value\n",
    "        \n",
    "        return totals\n",
    "    \n",
    "    def calculate_fitness(self, df: pd.DataFrame, targets: Dict[str, float]) -> float:\n",
    "        \"\"\"Calculate fitness score based on how close nutrients are to targets.\"\"\"\n",
    "        nutrients = self.calculate_nutrients(df)\n",
    "        fitness = 0.0\n",
    "        \n",
    "        for nutrient, target in targets.items():\n",
    "            actual = nutrients.get(nutrient, 0)\n",
    "            deviation = abs(actual - target)\n",
    "            fitness -= deviation\n",
    "        \n",
    "        return fitness\n",
    "    \n",
    "    def copy(self) -> 'MealPlan':\n",
    "        \"\"\"Create a deep copy of this meal plan.\"\"\"\n",
    "        return MealPlan(copy.deepcopy(self.meals))\n",
    "    \n",
    "    def __iter__(self):\n",
    "        return iter(self.meals.items())\n",
    "    \n",
    "    def __getitem__(self, meal_type: str) -> List[str]:\n",
    "        return self.meals[meal_type]\n",
    "    \n",
    "    def __setitem__(self, meal_type: str, foods: List[str]):\n",
    "        self.meals[meal_type] = foods"
   ]
  },
  {
   "cell_type": "code",
   "execution_count": 337,
   "metadata": {},
   "outputs": [],
   "source": [
    "# Generate initial population\n",
    "def generate_initial_population(df: pd.DataFrame, config: GeneticAlgorithmConfig) -> List[MealPlan]:\n",
    "    \"\"\"Generate initial population of random meal plans.\"\"\"\n",
    "    return [\n",
    "        MealPlan.generate_random(df, config.foods_per_meal) \n",
    "        for _ in range(config.population_size)\n",
    "    ]\n",
    "\n",
    "initial_population = generate_initial_population(df_alimentos, ga_config)"
   ]
  },
  {
   "cell_type": "code",
   "execution_count": 338,
   "metadata": {
    "execution": {
     "iopub.execute_input": "2025-07-26T16:54:06.092999Z",
     "iopub.status.busy": "2025-07-26T16:54:06.092904Z",
     "iopub.status.idle": "2025-07-26T16:54:06.095079Z",
     "shell.execute_reply": "2025-07-26T16:54:06.094890Z"
    },
    "id": "PCqmKDHIx9qP"
   },
   "outputs": [],
   "source": [
    "class GeneticOperators:\n",
    "    \"\"\"Collection of genetic algorithm operators.\"\"\"\n",
    "    \n",
    "    @staticmethod\n",
    "    def tournament_selection(population: List[MealPlan], fitnesses: List[float], \n",
    "                           tournament_size: int) -> List[MealPlan]:\n",
    "        \"\"\"Select individuals using tournament selection.\"\"\"\n",
    "        selected = []\n",
    "        \n",
    "        for _ in range(len(population)):\n",
    "            tournament_indices = random.sample(range(len(population)), tournament_size)\n",
    "            tournament_fitnesses = [fitnesses[i] for i in tournament_indices]\n",
    "            winner_idx = tournament_indices[tournament_fitnesses.index(max(tournament_fitnesses))]\n",
    "            selected.append(population[winner_idx].copy())\n",
    "        \n",
    "        return selected\n",
    "    \n",
    "    @staticmethod\n",
    "    def crossover(parent1: MealPlan, parent2: MealPlan) -> MealPlan:\n",
    "        \"\"\"Create offspring through crossover of two parents.\"\"\"\n",
    "        child = MealPlan()\n",
    "        \n",
    "        for meal_type in MealPlan.MEAL_TYPES:\n",
    "            # Randomly choose which parent to inherit each meal from\n",
    "            chosen_parent = random.choice([parent1, parent2])\n",
    "            child[meal_type] = chosen_parent[meal_type].copy()\n",
    "        \n",
    "        return child\n",
    "    \n",
    "    @staticmethod\n",
    "    def mutate_food(meal_plan: MealPlan, df: pd.DataFrame, mutation_rate: float) -> MealPlan:\n",
    "        \"\"\"Mutate individual foods in a meal plan.\"\"\"\n",
    "        mutated = meal_plan.copy()\n",
    "        available_foods = df[\"Descrição dos alimentos\"].dropna().unique().tolist()\n",
    "        \n",
    "        if random.random() < mutation_rate:\n",
    "            # Choose random meal and food position to mutate\n",
    "            meals_with_foods = [meal for meal in MealPlan.MEAL_TYPES if mutated[meal]]\n",
    "            if meals_with_foods:\n",
    "                chosen_meal = random.choice(meals_with_foods)\n",
    "                food_idx = random.randint(0, len(mutated[chosen_meal]) - 1)\n",
    "                mutated[chosen_meal][food_idx] = random.choice(available_foods)\n",
    "        \n",
    "        return mutated\n",
    "    \n",
    "    @staticmethod\n",
    "    def mutate_meal(meal_plan: MealPlan, df: pd.DataFrame, mutation_rate: float, \n",
    "                   foods_per_meal: int) -> MealPlan:\n",
    "        \"\"\"Mutate entire meals in a meal plan.\"\"\"\n",
    "        mutated = meal_plan.copy()\n",
    "        available_foods = df[\"Descrição dos alimentos\"].dropna().unique().tolist()\n",
    "        \n",
    "        if random.random() < mutation_rate:\n",
    "            chosen_meal = random.choice(MealPlan.MEAL_TYPES)\n",
    "            mutated[chosen_meal] = random.sample(available_foods, k=foods_per_meal)\n",
    "        \n",
    "        return mutated"
   ]
  },
  {
   "cell_type": "code",
   "execution_count": 339,
   "metadata": {},
   "outputs": [],
   "source": [
    "class GeneticAlgorithm:\n",
    "    \"\"\"Main genetic algorithm class for meal plan optimization.\"\"\"\n",
    "    \n",
    "    def __init__(self, df: pd.DataFrame, config: GeneticAlgorithmConfig, \n",
    "                 targets: NutritionalTargets):\n",
    "        self.df = df\n",
    "        self.config = config\n",
    "        self.targets = targets.to_dict()\n",
    "        self.operators = GeneticOperators()\n",
    "    \n",
    "    def evolve(self, initial_population: List[MealPlan], use_elitism: bool = False,\n",
    "               mutation_type: str = \"meal\") -> Tuple[MealPlan, float, List[float]]:\n",
    "        \"\"\"\n",
    "        Run the genetic algorithm evolution.\n",
    "        \n",
    "        Args:\n",
    "            initial_population: Starting population\n",
    "            use_elitism: Whether to preserve best individuals\n",
    "            mutation_type: \"meal\" or \"food\" level mutation\n",
    "        \"\"\"\n",
    "        population = [meal_plan.copy() for meal_plan in initial_population]\n",
    "        fitness_history = []\n",
    "        \n",
    "        for generation in range(self.config.num_generations):\n",
    "            # Calculate fitness for all individuals\n",
    "            fitnesses = [\n",
    "                individual.calculate_fitness(self.df, self.targets)\n",
    "                for individual in population\n",
    "            ]\n",
    "            \n",
    "            # Track best fitness\n",
    "            best_fitness = max(fitnesses)\n",
    "            fitness_history.append(best_fitness)\n",
    "            \n",
    "            # Selection\n",
    "            selected = self.operators.tournament_selection(\n",
    "                population, fitnesses, self.config.tournament_size\n",
    "            )\n",
    "            \n",
    "            # Create new population\n",
    "            new_population = []\n",
    "            \n",
    "            # Elitism: preserve best individuals\n",
    "            if use_elitism:\n",
    "                elite_count = self.config.num_elites\n",
    "                elite_indices = sorted(range(len(fitnesses)), \n",
    "                                     key=lambda i: fitnesses[i], reverse=True)[:elite_count]\n",
    "                elites = [population[i].copy() for i in elite_indices]\n",
    "                new_population.extend(elites)\n",
    "            \n",
    "            # Generate offspring to fill remaining population\n",
    "            remaining_slots = self.config.population_size - len(new_population)\n",
    "            \n",
    "            for i in range(0, remaining_slots, 2):\n",
    "                parent1 = selected[i % len(selected)]\n",
    "                parent2 = selected[(i + 1) % len(selected)]\n",
    "                \n",
    "                # Crossover\n",
    "                child1 = self.operators.crossover(parent1, parent2)\n",
    "                child2 = self.operators.crossover(parent2, parent1)\n",
    "                \n",
    "                # Mutation\n",
    "                if mutation_type == \"food\":\n",
    "                    child1 = self.operators.mutate_food(child1, self.df, self.config.mutation_rate)\n",
    "                    child2 = self.operators.mutate_food(child2, self.df, self.config.mutation_rate)\n",
    "                else:  # meal\n",
    "                    child1 = self.operators.mutate_meal(child1, self.df, self.config.mutation_rate, \n",
    "                                                       self.config.foods_per_meal)\n",
    "                    child2 = self.operators.mutate_meal(child2, self.df, self.config.mutation_rate,\n",
    "                                                       self.config.foods_per_meal)\n",
    "                \n",
    "                new_population.extend([child1, child2])\n",
    "            \n",
    "            # Ensure population size is maintained\n",
    "            population = new_population[:self.config.population_size]\n",
    "        \n",
    "        # Final fitness calculation\n",
    "        final_fitnesses = [\n",
    "            individual.calculate_fitness(self.df, self.targets)\n",
    "            for individual in population\n",
    "        ]\n",
    "        \n",
    "        best_idx = final_fitnesses.index(max(final_fitnesses))\n",
    "        return population[best_idx], final_fitnesses[best_idx], fitness_history"
   ]
  },
  {
   "cell_type": "code",
   "execution_count": 340,
   "metadata": {
    "execution": {
     "iopub.execute_input": "2025-07-26T16:54:06.098736Z",
     "iopub.status.busy": "2025-07-26T16:54:06.098660Z",
     "iopub.status.idle": "2025-07-26T16:54:06.100599Z",
     "shell.execute_reply": "2025-07-26T16:54:06.100309Z"
    },
    "id": "dHwnoOgzy3Gf"
   },
   "outputs": [],
   "source": [
    "class ResultsDisplayer:\n",
    "    \"\"\"Utility class for displaying and plotting results.\"\"\"\n",
    "    \n",
    "    @staticmethod\n",
    "    def print_meal_plan_results(meal_plan: MealPlan, df: pd.DataFrame, \n",
    "                               targets: Dict[str, float], fitness: float):\n",
    "        \"\"\"Print detailed results for a meal plan.\"\"\"\n",
    "        print(\"\\nMelhor cardápio:\")\n",
    "        for meal_type, foods in meal_plan:\n",
    "            print(f\"{meal_type}: {'; '.join(foods)}\")\n",
    "        \n",
    "        nutrients = meal_plan.calculate_nutrients(df)\n",
    "        print(\"\\nNutrientes:\")\n",
    "        for nutrient, value in nutrients.items():\n",
    "            target = targets.get(nutrient, 0)\n",
    "            print(f\"{nutrient}: {value:.2f} (meta: {target:.2f})\")\n",
    "        \n",
    "        print(f\"\\nFitness final: {fitness:.2f}\")\n",
    "    \n",
    "    @staticmethod\n",
    "    def plot_fitness_evolution(fitness_histories: Dict[str, List[float]], \n",
    "                              num_generations: int):\n",
    "        \"\"\"Plot fitness evolution for multiple algorithm variants.\"\"\"\n",
    "        plt.figure(figsize=(20, 4))\n",
    "        \n",
    "        colors = ['red', 'blue', 'green', 'orange', 'purple']\n",
    "        \n",
    "        for i, (label, history) in enumerate(fitness_histories.items()):\n",
    "            color = colors[i % len(colors)]\n",
    "            plt.plot(range(1, num_generations + 1), history, \n",
    "                    color=color, linestyle='-', linewidth=2, label=label)\n",
    "        \n",
    "        plt.legend()\n",
    "        plt.xlabel(\"Geração\")\n",
    "        plt.ylabel(\"Melhor Fitness\")\n",
    "        plt.title(\"Evolução do Melhor Fitness por Geração\")\n",
    "        plt.grid(True, alpha=0.3)\n",
    "        plt.show()"
   ]
  },
  {
   "cell_type": "code",
   "execution_count": 341,
   "metadata": {
    "execution": {
     "iopub.execute_input": "2025-07-26T16:54:06.102001Z",
     "iopub.status.busy": "2025-07-26T16:54:06.101915Z",
     "iopub.status.idle": "2025-07-26T16:54:06.103761Z",
     "shell.execute_reply": "2025-07-26T16:54:06.103490Z"
    },
    "id": "Ynvfb4lKy4Jg"
   },
   "outputs": [],
   "source": [
    "# Initialize the genetic algorithm\n",
    "ga = GeneticAlgorithm(df_alimentos, ga_config, nutritional_targets)\n",
    "displayer = ResultsDisplayer()"
   ]
  },
  {
   "cell_type": "code",
   "execution_count": 342,
   "metadata": {
    "execution": {
     "iopub.execute_input": "2025-07-26T16:54:06.104866Z",
     "iopub.status.busy": "2025-07-26T16:54:06.104792Z",
     "iopub.status.idle": "2025-07-26T16:54:06.106803Z",
     "shell.execute_reply": "2025-07-26T16:54:06.106513Z"
    },
    "id": "tRoufuBGy5nK"
   },
   "outputs": [
    {
     "name": "stdout",
     "output_type": "stream",
     "text": [
      "Executando algoritmo genético básico...\n",
      "\n",
      "Melhor cardápio:\n",
      "cafe: Pitanga, polpa, congelada; Carne, bovina, acém, moído, cozido; Quibe, frito\n",
      "almoco: Batata, inglesa, sauté; Ameixa, calda, enlatada; Arroz, tipo 2, cru\n",
      "jantar: Chantilly, spray, com gordura vegetal; Biscoito, doce, recheado com morango; Frango, coxa, sem pele, crua\n",
      "\n",
      "Nutrientes:\n",
      "Energia..kcal.: 2000.00 (meta: 2000.00)\n",
      "Proteína..g.: 74.80 (meta: 75.00)\n",
      "Carboidrato..g.: 244.90 (meta: 275.00)\n",
      "Lipídeos..g.: 79.80 (meta: 70.00)\n",
      "\n",
      "Fitness final: -40.10\n"
     ]
    }
   ],
   "source": [
    "# Run genetic algorithm without elitism\n",
    "print(\"Executando algoritmo genético básico...\")\n",
    "best_basic, fitness_basic, history_basic = ga.evolve(\n",
    "    initial_population, use_elitism=False, mutation_type=\"meal\"\n",
    ")\n",
    "\n",
    "displayer.print_meal_plan_results(\n",
    "    best_basic, df_alimentos, nutritional_targets.to_dict(), fitness_basic\n",
    ")"
   ]
  },
  {
   "cell_type": "code",
   "execution_count": 343,
   "metadata": {},
   "outputs": [
    {
     "data": {
      "image/png": "[encoded data removed]",
      "text/plain": [
       "<Figure size 2000x400 with 1 Axes>"
      ]
     },
     "metadata": {},
     "output_type": "display_data"
    }
   ],
   "source": [
    "# Plot first algorithm results\n",
    "displayer.plot_fitness_evolution(\n",
    "    {\"Sem Elitismo\": history_basic}, \n",
    "    ga_config.num_generations\n",
    ")"
   ]
  },
  {
   "cell_type": "code",
   "execution_count": 344,
   "metadata": {
    "execution": {
     "iopub.execute_input": "2025-07-26T16:54:06.108030Z",
     "iopub.status.busy": "2025-07-26T16:54:06.107955Z",
     "iopub.status.idle": "2025-07-26T16:54:06.110757Z",
     "shell.execute_reply": "2025-07-26T16:54:06.110528Z"
    },
    "id": "YC0YFgdDy7Dn"
   },
   "outputs": [
    {
     "name": "stdout",
     "output_type": "stream",
     "text": [
      "\n",
      "Executando algoritmo genético com elitismo...\n",
      "\n",
      "Melhor cardápio:\n",
      "cafe: Cereais, milho, flocos, sem sal; Feijão, preto, cru; Melão, cru\n",
      "almoco: Carne, bovina, capa de contra-filé, com gordura, crua; Pastel, de carne, cru; Hambúrguer, bovino, cru\n",
      "jantar: Azeitona, preta, conserva; Tamarindo, cru; Abacate, cru\n",
      "\n",
      "Nutrientes:\n",
      "Energia..kcal.: 2003.00 (meta: 2000.00)\n",
      "Proteína..g.: 77.60 (meta: 75.00)\n",
      "Carboidrato..g.: 276.90 (meta: 275.00)\n",
      "Lipídeos..g.: 71.60 (meta: 70.00)\n",
      "\n",
      "Fitness final: -9.10\n"
     ]
    }
   ],
   "source": [
    "# Run genetic algorithm with elitism\n",
    "print(\"\\nExecutando algoritmo genético com elitismo...\")\n",
    "best_elitism, fitness_elitism, history_elitism = ga.evolve(\n",
    "    initial_population, use_elitism=True, mutation_type=\"meal\"\n",
    ")\n",
    "\n",
    "displayer.print_meal_plan_results(\n",
    "    best_elitism, df_alimentos, nutritional_targets.to_dict(), fitness_elitism\n",
    ")"
   ]
  },
  {
   "cell_type": "code",
   "execution_count": 345,
   "metadata": {
    "colab": {
     "base_uri": "https://localhost:8080/"
    },
    "execution": {
     "iopub.execute_input": "2025-07-26T16:54:06.111888Z",
     "iopub.status.busy": "2025-07-26T16:54:06.111810Z",
     "iopub.status.idle": "2025-07-26T16:54:06.375814Z",
     "shell.execute_reply": "2025-07-26T16:54:06.375529Z"
    },
    "id": "8OPbCnrcybgu",
    "outputId": "e1382953-43c6-4349-934c-13888791fbfc"
   },
   "outputs": [
    {
     "data": {
      "image/png": "[encoded data removed]",
      "text/plain": [
       "<Figure size 2000x400 with 1 Axes>"
      ]
     },
     "metadata": {},
     "output_type": "display_data"
    }
   ],
   "source": [
    "# Compare basic vs elitism\n",
    "displayer.plot_fitness_evolution(\n",
    "    {\n",
    "        \"Sem Elitismo\": history_basic,\n",
    "        \"Com Elitismo\": history_elitism\n",
    "    }, \n",
    "    ga_config.num_generations\n",
    ")"
   ]
  },
  {
   "cell_type": "code",
   "execution_count": 346,
   "metadata": {
    "execution": {
     "iopub.execute_input": "2025-07-26T16:54:06.398621Z",
     "iopub.status.busy": "2025-07-26T16:54:06.398521Z",
     "iopub.status.idle": "2025-07-26T16:54:06.452210Z",
     "shell.execute_reply": "2025-07-26T16:54:06.451991Z"
    }
   },
   "outputs": [
    {
     "name": "stdout",
     "output_type": "stream",
     "text": [
      "\n",
      "Executando algoritmo genético com elitismo e mutação por alimento...\n",
      "\n",
      "Melhor cardápio:\n",
      "cafe: Carne, bovina, picanha, sem gordura, grelhada; Bolo, pronto, chocolate; Caruru, cru\n",
      "almoco: Ameixa, crua; Nhoque, batata, cozido; Hambúrguer, bovino, grelhado\n",
      "jantar: Chocolate, meio amargo; Arroz, tipo 2, cru; Jamelão, cru\n",
      "\n",
      "Nutrientes:\n",
      "Energia..kcal.: 2000.00 (meta: 2000.00)\n",
      "Proteína..g.: 73.80 (meta: 75.00)\n",
      "Carboidrato..g.: 274.60 (meta: 275.00)\n",
      "Lipídeos..g.: 75.00 (meta: 70.00)\n",
      "\n",
      "Fitness final: -6.60\n"
     ]
    }
   ],
   "source": [
    "# Run genetic algorithm with elitism and food-level mutation\n",
    "print(\"\\nExecutando algoritmo genético com elitismo e mutação por alimento...\")\n",
    "best_elitism_food, fitness_elitism_food, history_elitism_food = ga.evolve(\n",
    "    initial_population, use_elitism=True, mutation_type=\"food\"\n",
    ")\n",
    "\n",
    "displayer.print_meal_plan_results(\n",
    "    best_elitism_food, df_alimentos, nutritional_targets.to_dict(), fitness_elitism_food\n",
    ")"
   ]
  },
  {
   "cell_type": "code",
   "execution_count": 347,
   "metadata": {
    "execution": {
     "iopub.execute_input": "2025-07-26T16:54:06.453282Z",
     "iopub.status.busy": "2025-07-26T16:54:06.453203Z",
     "iopub.status.idle": "2025-07-26T16:54:06.455948Z",
     "shell.execute_reply": "2025-07-26T16:54:06.455729Z"
    }
   },
   "outputs": [
    {
     "data": {
      "image/png": "[encoded data removed]",
      "text/plain": [
       "<Figure size 2000x400 with 1 Axes>"
      ]
     },
     "metadata": {},
     "output_type": "display_data"
    }
   ],
   "source": [
    "# Final comparison of all three approaches\n",
    "displayer.plot_fitness_evolution(\n",
    "    {\n",
    "        \"Sem Elitismo\": history_basic,\n",
    "        \"Com Elitismo\": history_elitism,\n",
    "        \"Com Elitismo e Mutação por Alimento\": history_elitism_food\n",
    "    }, \n",
    "    ga_config.num_generations\n",
    ")"
   ]
  },
  {
   "cell_type": "code",
   "execution_count": 348,
   "metadata": {
    "execution": {
     "iopub.execute_input": "2025-07-26T16:54:06.457050Z",
     "iopub.status.busy": "2025-07-26T16:54:06.456963Z",
     "iopub.status.idle": "2025-07-26T16:54:06.753558Z",
     "shell.execute_reply": "2025-07-26T16:54:06.753327Z"
    }
   },
   "outputs": [
    {
     "name": "stdout",
     "output_type": "stream",
     "text": [
      "\n",
      "==================================================\n",
      "RESUMO DOS RESULTADOS\n",
      "==================================================\n",
      "\n",
      "Algoritmo Básico:\n",
      "Fitness: -40.10\n",
      "Comparação com metas:\n",
      "  Energia..kcal.: 2000.0/2000.0 (100.0%)\n",
      "  Proteína..g.: 74.8/75.0 (99.7%)\n",
      "  Carboidrato..g.: 244.9/275.0 (89.1%)\n",
      "  Lipídeos..g.: 79.8/70.0 (86.0%)\n",
      "------------------------------\n",
      "\n",
      "Com Elitismo:\n",
      "Fitness: -9.10\n",
      "Comparação com metas:\n",
      "  Energia..kcal.: 2003.0/2000.0 (99.9%)\n",
      "  Proteína..g.: 77.6/75.0 (96.5%)\n",
      "  Carboidrato..g.: 276.9/275.0 (99.3%)\n",
      "  Lipídeos..g.: 71.6/70.0 (97.7%)\n",
      "------------------------------\n",
      "\n",
      "Com Elitismo + Mutação por Alimento:\n",
      "Fitness: -6.60\n",
      "Comparação com metas:\n",
      "  Energia..kcal.: 2000.0/2000.0 (100.0%)\n",
      "  Proteína..g.: 73.8/75.0 (98.4%)\n",
      "  Carboidrato..g.: 274.6/275.0 (99.9%)\n",
      "  Lipídeos..g.: 75.0/70.0 (92.9%)\n",
      "------------------------------\n"
     ]
    }
   ],
   "source": [
    "# Summary of results\n",
    "print(\"\\n\" + \"=\"*50)\n",
    "print(\"RESUMO DOS RESULTADOS\")\n",
    "print(\"=\"*50)\n",
    "\n",
    "results = [\n",
    "    (\"Algoritmo Básico\", best_basic, fitness_basic),\n",
    "    (\"Com Elitismo\", best_elitism, fitness_elitism),\n",
    "    (\"Com Elitismo + Mutação por Alimento\", best_elitism_food, fitness_elitism_food)\n",
    "]\n",
    "\n",
    "for name, meal_plan, fitness in results:\n",
    "    print(f\"\\n{name}:\")\n",
    "    print(f\"Fitness: {fitness:.2f}\")\n",
    "    \n",
    "    nutrients = meal_plan.calculate_nutrients(df_alimentos)\n",
    "    targets = nutritional_targets.to_dict()\n",
    "    \n",
    "    print(\"Comparação com metas:\")\n",
    "    for nutrient, actual in nutrients.items():\n",
    "        target = targets[nutrient]\n",
    "        deviation = abs(actual - target)\n",
    "        percentage = (1 - deviation / target) * 100 if target > 0 else 0\n",
    "        print(f\"  {nutrient}: {actual:.1f}/{target:.1f} ({percentage:.1f}%)\")\n",
    "    print(\"-\" * 30)"
   ]
  },
  {
   "cell_type": "code",
   "execution_count": 349,
   "metadata": {
    "execution": {
     "iopub.execute_input": "2025-07-26T16:54:06.757919Z",
     "iopub.status.busy": "2025-07-26T16:54:06.757819Z",
     "iopub.status.idle": "2025-07-26T16:54:06.795830Z",
     "shell.execute_reply": "2025-07-26T16:54:06.795597Z"
    }
   },
   "outputs": [
    {
     "name": "stdout",
     "output_type": "stream",
     "text": [
      "\n",
      "==================================================\n",
      "EXEMPLO: EXPERIMENTAÇÃO CUSTOMIZADA\n",
      "==================================================\n",
      "Configuração customizada:\n",
      "  População: 20\n",
      "  Gerações: 500\n",
      "  Taxa de mutação: 0.3\n",
      "  Tamanho do torneio: 5\n",
      "\n",
      "Metas nutricionais customizadas:\n",
      "  Energia..kcal.: 1800\n",
      "  Proteína..g.: 80\n",
      "  Carboidrato..g.: 200\n",
      "  Lipídeos..g.: 60\n"
     ]
    }
   ],
   "source": [
    "# Example: How to modify configuration and run custom experiments\n",
    "print(\"\\n\" + \"=\"*50)\n",
    "print(\"EXEMPLO: EXPERIMENTAÇÃO CUSTOMIZADA\")\n",
    "print(\"=\"*50)\n",
    "\n",
    "# Create custom configuration\n",
    "custom_config = GeneticAlgorithmConfig(\n",
    "    population_size=20,\n",
    "    num_generations=500,\n",
    "    mutation_rate=0.3,\n",
    "    tournament_size=5\n",
    ")\n",
    "\n",
    "custom_targets = NutritionalTargets(\n",
    "    energia_kcal=1800,  # Lower calorie target\n",
    "    proteina_g=80,      # Higher protein\n",
    "    carboidrato_g=200,  # Lower carbs\n",
    "    lipideos_g=60       # Lower fat\n",
    ")\n",
    "\n",
    "print(f\"Configuração customizada:\")\n",
    "print(f\"  População: {custom_config.population_size}\")\n",
    "print(f\"  Gerações: {custom_config.num_generations}\")\n",
    "print(f\"  Taxa de mutação: {custom_config.mutation_rate}\")\n",
    "print(f\"  Tamanho do torneio: {custom_config.tournament_size}\")\n",
    "print(f\"\\nMetas nutricionais customizadas:\")\n",
    "for nutrient, target in custom_targets.to_dict().items():\n",
    "    print(f\"  {nutrient}: {target}\")\n",
    "\n",
    "# Uncomment to run custom experiment:\n",
    "# custom_ga = GeneticAlgorithm(df_alimentos, custom_config, custom_targets)\n",
    "# custom_population = generate_initial_population(df_alimentos, custom_config)\n",
    "# custom_best, custom_fitness, custom_history = custom_ga.evolve(custom_population, use_elitism=True)"
   ]
  }
 ],
 "metadata": {
  "colab": {
   "provenance": []
  },
  "kernelspec": {
   "display_name": "Python 3",
   "name": "python3"
  },
  "language_info": {
   "codemirror_mode": {
    "name": "ipython",
    "version": 3
   },
   "file_extension": ".py",
   "mimetype": "text/x-python",
   "name": "python",
   "nbconvert_exporter": "python",
   "pygments_lexer": "ipython3",
   "version": "3.12.6"
  }
 },
 "nbformat": 4,
 "nbformat_minor": 0
}
